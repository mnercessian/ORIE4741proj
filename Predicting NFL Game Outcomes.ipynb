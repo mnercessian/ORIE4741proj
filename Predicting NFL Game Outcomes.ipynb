{
 "cells": [
  {
   "cell_type": "markdown",
   "metadata": {},
   "source": [
    "# Predicting NFL Game Outcomes\n",
    "## Rohan Lewis, Michael Nercessian, Matthew Armstrong"
   ]
  },
  {
   "cell_type": "markdown",
   "metadata": {},
   "source": [
    "# 2019 NFL Game by Game Data\n",
    "\n",
    "We first manually downloaded our data from this source: https://www.pro-football-reference.com/teams/\n",
    "\n",
    "Our first step will be to import all of the modules we need, and then load the data."
   ]
  },
  {
   "cell_type": "code",
   "execution_count": 81,
   "metadata": {},
   "outputs": [
    {
     "name": "stderr",
     "output_type": "stream",
     "text": [
      "\u001b[32m\u001b[1m  Resolving\u001b[22m\u001b[39m package versions...\n",
      "\u001b[32m\u001b[1mNo Changes\u001b[22m\u001b[39m to `~/.julia/environments/v1.5/Project.toml`\n",
      "\u001b[32m\u001b[1mNo Changes\u001b[22m\u001b[39m to `~/.julia/environments/v1.5/Manifest.toml`\n",
      "\u001b[32m\u001b[1m  Resolving\u001b[22m\u001b[39m package versions...\n",
      "\u001b[32m\u001b[1mNo Changes\u001b[22m\u001b[39m to `~/.julia/environments/v1.5/Project.toml`\n",
      "\u001b[32m\u001b[1mNo Changes\u001b[22m\u001b[39m to `~/.julia/environments/v1.5/Manifest.toml`\n",
      "\u001b[32m\u001b[1m  Resolving\u001b[22m\u001b[39m package versions...\n",
      "\u001b[32m\u001b[1mNo Changes\u001b[22m\u001b[39m to `~/.julia/environments/v1.5/Project.toml`\n",
      "\u001b[32m\u001b[1mNo Changes\u001b[22m\u001b[39m to `~/.julia/environments/v1.5/Manifest.toml`\n",
      "\u001b[32m\u001b[1m  Resolving\u001b[22m\u001b[39m package versions...\n",
      "\u001b[32m\u001b[1mNo Changes\u001b[22m\u001b[39m to `~/.julia/environments/v1.5/Project.toml`\n",
      "\u001b[32m\u001b[1mNo Changes\u001b[22m\u001b[39m to `~/.julia/environments/v1.5/Manifest.toml`\n"
     ]
    }
   ],
   "source": [
    "import Pkg\n",
    "Pkg.add(\"CSV\")\n",
    "Pkg.add(\"Plots\")\n",
    "Pkg.add(\"DataFrames\")\n",
    "Pkg.add(\"Statistics\")"
   ]
  },
  {
   "cell_type": "code",
   "execution_count": 1,
   "metadata": {},
   "outputs": [],
   "source": [
    "using Random\n",
    "using CSV\n",
    "using Plots\n",
    "using DataFrames\n",
    "using Statistics"
   ]
  },
  {
   "cell_type": "code",
   "execution_count": 118,
   "metadata": {},
   "outputs": [
    {
     "data": {
      "text/html": [
       "<table class=\"data-frame\"><thead><tr><th></th><th>ID</th><th>Name</th><th>Abbreviation</th><th>Conference</th><th>Division</th></tr><tr><th></th><th>Int64</th><th>String</th><th>String</th><th>String</th><th>String</th></tr></thead><tbody><p>32 rows × 5 columns</p><tr><th>1</th><td>1</td><td>Arizona Cardinals</td><td>ARI</td><td>NFC</td><td>West</td></tr><tr><th>2</th><td>2</td><td>Atlanta Falcons</td><td>ATL</td><td>NFC</td><td>South</td></tr><tr><th>3</th><td>3</td><td>Baltimore Ravens</td><td>BAL</td><td>AFC</td><td>North</td></tr><tr><th>4</th><td>4</td><td>Buffalo Bills</td><td>BUF</td><td>AFC</td><td>East</td></tr><tr><th>5</th><td>5</td><td>Carolina Panthers</td><td>CAR</td><td>NFC</td><td>South</td></tr><tr><th>6</th><td>6</td><td>Chicago Bears</td><td>CHI</td><td>NFC</td><td>North</td></tr><tr><th>7</th><td>7</td><td>Cincinnati Bengals</td><td>CIN</td><td>AFC</td><td>North</td></tr><tr><th>8</th><td>8</td><td>Cleveland Browns</td><td>CLE</td><td>AFC</td><td>North</td></tr><tr><th>9</th><td>9</td><td>Dallas Cowboys</td><td>DAL</td><td>NFC</td><td>East</td></tr><tr><th>10</th><td>10</td><td>Denver Broncos</td><td>DEN</td><td>AFC</td><td>West</td></tr><tr><th>11</th><td>11</td><td>Detroit Lions</td><td>DET</td><td>NFC</td><td>North</td></tr><tr><th>12</th><td>12</td><td>Green Bay Packers</td><td>GB</td><td>NFC</td><td>North</td></tr><tr><th>13</th><td>13</td><td>Houston Texans</td><td>HOU</td><td>AFC</td><td>South</td></tr><tr><th>14</th><td>14</td><td>Indianapolis Colts</td><td>IND</td><td>AFC</td><td>South</td></tr><tr><th>15</th><td>15</td><td>Jacksonville Jaguars</td><td>JAX</td><td>AFC</td><td>South</td></tr><tr><th>16</th><td>16</td><td>Kansas City Chiefs</td><td>KC</td><td>AFC</td><td>West</td></tr><tr><th>17</th><td>17</td><td>Miami Dolphins</td><td>MIA</td><td>AFC</td><td>East</td></tr><tr><th>18</th><td>18</td><td>Minnesota Vikings</td><td>MIN</td><td>NFC</td><td>North</td></tr><tr><th>19</th><td>19</td><td>New England Patriots</td><td>NE</td><td>AFC</td><td>East</td></tr><tr><th>20</th><td>20</td><td>New Orleans Saints</td><td>NO</td><td>NFC</td><td>South</td></tr><tr><th>21</th><td>21</td><td>New York Giants</td><td>NYG</td><td>NFC</td><td>East</td></tr><tr><th>22</th><td>22</td><td>New York Jets</td><td>NYJ</td><td>AFC</td><td>East</td></tr><tr><th>23</th><td>23</td><td>Oakland Raiders</td><td>LV</td><td>AFC</td><td>West</td></tr><tr><th>24</th><td>24</td><td>Philadelphia Eagles</td><td>PHI</td><td>NFC</td><td>East</td></tr><tr><th>25</th><td>25</td><td>Pittsburgh Steelers</td><td>PIT</td><td>AFC</td><td>North</td></tr><tr><th>26</th><td>26</td><td>Los Angeles Chargers</td><td>LAC</td><td>AFC</td><td>West</td></tr><tr><th>27</th><td>27</td><td>San Francisco 49ers</td><td>SF</td><td>NFC</td><td>West</td></tr><tr><th>28</th><td>28</td><td>Seattle Seahawks</td><td>SEA</td><td>NFC</td><td>West</td></tr><tr><th>29</th><td>29</td><td>Los Angeles Rams</td><td>LAR</td><td>NFC</td><td>West</td></tr><tr><th>30</th><td>30</td><td>Tampa Bay Buccaneers</td><td>TB</td><td>NFC</td><td>South</td></tr><tr><th>&vellip;</th><td>&vellip;</td><td>&vellip;</td><td>&vellip;</td><td>&vellip;</td><td>&vellip;</td></tr></tbody></table>"
      ],
      "text/latex": [
       "\\begin{tabular}{r|ccccc}\n",
       "\t& ID & Name & Abbreviation & Conference & Division\\\\\n",
       "\t\\hline\n",
       "\t& Int64 & String & String & String & String\\\\\n",
       "\t\\hline\n",
       "\t1 & 1 & Arizona Cardinals & ARI & NFC & West \\\\\n",
       "\t2 & 2 & Atlanta Falcons & ATL & NFC & South \\\\\n",
       "\t3 & 3 & Baltimore Ravens & BAL & AFC & North \\\\\n",
       "\t4 & 4 & Buffalo Bills & BUF & AFC & East \\\\\n",
       "\t5 & 5 & Carolina Panthers & CAR & NFC & South \\\\\n",
       "\t6 & 6 & Chicago Bears & CHI & NFC & North \\\\\n",
       "\t7 & 7 & Cincinnati Bengals & CIN & AFC & North \\\\\n",
       "\t8 & 8 & Cleveland Browns & CLE & AFC & North \\\\\n",
       "\t9 & 9 & Dallas Cowboys & DAL & NFC & East \\\\\n",
       "\t10 & 10 & Denver Broncos & DEN & AFC & West \\\\\n",
       "\t11 & 11 & Detroit Lions & DET & NFC & North \\\\\n",
       "\t12 & 12 & Green Bay Packers & GB & NFC & North \\\\\n",
       "\t13 & 13 & Houston Texans & HOU & AFC & South \\\\\n",
       "\t14 & 14 & Indianapolis Colts & IND & AFC & South \\\\\n",
       "\t15 & 15 & Jacksonville Jaguars & JAX & AFC & South \\\\\n",
       "\t16 & 16 & Kansas City Chiefs & KC & AFC & West \\\\\n",
       "\t17 & 17 & Miami Dolphins & MIA & AFC & East \\\\\n",
       "\t18 & 18 & Minnesota Vikings & MIN & NFC & North \\\\\n",
       "\t19 & 19 & New England Patriots & NE & AFC & East \\\\\n",
       "\t20 & 20 & New Orleans Saints & NO & NFC & South \\\\\n",
       "\t21 & 21 & New York Giants & NYG & NFC & East \\\\\n",
       "\t22 & 22 & New York Jets & NYJ & AFC & East \\\\\n",
       "\t23 & 23 & Oakland Raiders & LV & AFC & West \\\\\n",
       "\t24 & 24 & Philadelphia Eagles & PHI & NFC & East \\\\\n",
       "\t25 & 25 & Pittsburgh Steelers & PIT & AFC & North \\\\\n",
       "\t26 & 26 & Los Angeles Chargers & LAC & AFC & West \\\\\n",
       "\t27 & 27 & San Francisco 49ers & SF & NFC & West \\\\\n",
       "\t28 & 28 & Seattle Seahawks & SEA & NFC & West \\\\\n",
       "\t29 & 29 & Los Angeles Rams & LAR & NFC & West \\\\\n",
       "\t30 & 30 & Tampa Bay Buccaneers & TB & NFC & South \\\\\n",
       "\t$\\dots$ & $\\dots$ & $\\dots$ & $\\dots$ & $\\dots$ & $\\dots$ \\\\\n",
       "\\end{tabular}\n"
      ],
      "text/plain": [
       "32×5 DataFrame\n",
       "│ Row │ ID    │ Name                 │ Abbreviation │ Conference │ Division │\n",
       "│     │ \u001b[90mInt64\u001b[39m │ \u001b[90mString\u001b[39m               │ \u001b[90mString\u001b[39m       │ \u001b[90mString\u001b[39m     │ \u001b[90mString\u001b[39m   │\n",
       "├─────┼───────┼──────────────────────┼──────────────┼────────────┼──────────┤\n",
       "│ 1   │ 1     │ Arizona Cardinals    │ ARI          │ NFC        │ West     │\n",
       "│ 2   │ 2     │ Atlanta Falcons      │ ATL          │ NFC        │ South    │\n",
       "│ 3   │ 3     │ Baltimore Ravens     │ BAL          │ AFC        │ North    │\n",
       "│ 4   │ 4     │ Buffalo Bills        │ BUF          │ AFC        │ East     │\n",
       "│ 5   │ 5     │ Carolina Panthers    │ CAR          │ NFC        │ South    │\n",
       "│ 6   │ 6     │ Chicago Bears        │ CHI          │ NFC        │ North    │\n",
       "│ 7   │ 7     │ Cincinnati Bengals   │ CIN          │ AFC        │ North    │\n",
       "│ 8   │ 8     │ Cleveland Browns     │ CLE          │ AFC        │ North    │\n",
       "│ 9   │ 9     │ Dallas Cowboys       │ DAL          │ NFC        │ East     │\n",
       "│ 10  │ 10    │ Denver Broncos       │ DEN          │ AFC        │ West     │\n",
       "⋮\n",
       "│ 22  │ 22    │ New York Jets        │ NYJ          │ AFC        │ East     │\n",
       "│ 23  │ 23    │ Oakland Raiders      │ LV           │ AFC        │ West     │\n",
       "│ 24  │ 24    │ Philadelphia Eagles  │ PHI          │ NFC        │ East     │\n",
       "│ 25  │ 25    │ Pittsburgh Steelers  │ PIT          │ AFC        │ North    │\n",
       "│ 26  │ 26    │ Los Angeles Chargers │ LAC          │ AFC        │ West     │\n",
       "│ 27  │ 27    │ San Francisco 49ers  │ SF           │ NFC        │ West     │\n",
       "│ 28  │ 28    │ Seattle Seahawks     │ SEA          │ NFC        │ West     │\n",
       "│ 29  │ 29    │ Los Angeles Rams     │ LAR          │ NFC        │ West     │\n",
       "│ 30  │ 30    │ Tampa Bay Buccaneers │ TB           │ NFC        │ South    │\n",
       "│ 31  │ 31    │ Tennessee Titans     │ TEN          │ AFC        │ South    │\n",
       "│ 32  │ 32    │ Washington Redskins  │ WAS          │ NFC        │ East     │"
      ]
     },
     "execution_count": 118,
     "metadata": {},
     "output_type": "execute_result"
    }
   ],
   "source": [
    "# bills_19 = CSV.read(\"Datasets/2019 Teams/bills_2019.csv\")\n",
    "nfl_teams = CSV.read(\"Datasets/nfl_teams.csv\")\n",
    "nfl_teams_with_spaces = CSV.read(\"Datasets/nfl_teams_with_spaces.csv\")\n",
    "#showall(nfl_teams_with_spaces)"
   ]
  },
  {
   "cell_type": "code",
   "execution_count": 119,
   "metadata": {},
   "outputs": [],
   "source": [
    "#showall(bills_19)"
   ]
  },
  {
   "cell_type": "code",
   "execution_count": 84,
   "metadata": {},
   "outputs": [
    {
     "data": {
      "text/plain": [
       "32×2 Array{Any,2}:\n",
       "  1  \"ARI\"\n",
       "  2  \"ATL\"\n",
       "  3  \"BAL\"\n",
       "  4  \"BUF\"\n",
       "  5  \"CAR\"\n",
       "  6  \"CHI\"\n",
       "  7  \"CIN\"\n",
       "  8  \"CLE\"\n",
       "  9  \"DAL\"\n",
       " 10  \"DEN\"\n",
       " 11  \"DET\"\n",
       " 12  \"GB\"\n",
       " 13  \"HOU\"\n",
       "  ⋮  \n",
       " 21  \"NYG\"\n",
       " 22  \"NYJ\"\n",
       " 23  \"LV\"\n",
       " 24  \"PHI\"\n",
       " 25  \"PIT\"\n",
       " 26  \"LAC\"\n",
       " 27  \"SF\"\n",
       " 28  \"SEA\"\n",
       " 29  \"LAR\"\n",
       " 30  \"TB\"\n",
       " 31  \"TEN\"\n",
       " 32  \"WAS\""
      ]
     },
     "execution_count": 84,
     "metadata": {},
     "output_type": "execute_result"
    }
   ],
   "source": [
    "abbreviations = [nfl_teams[:, 1] nfl_teams[:, 3]]"
   ]
  },
  {
   "cell_type": "code",
   "execution_count": 7,
   "metadata": {},
   "outputs": [
    {
     "data": {
      "text/plain": [
       "14-element Array{Any,1}:\n",
       " \"patriots\"\n",
       " \"saints\"\n",
       " \"giants\"\n",
       " \"jets\"\n",
       " \"raiders\"\n",
       " \"eagles\"\n",
       " \"steelers\"\n",
       " \"chargers\"\n",
       " \"49ers\"\n",
       " \"seahawks\"\n",
       " \"rams\"\n",
       " \"buccaneers\"\n",
       " \"titans\"\n",
       " \"redskins\""
      ]
     },
     "execution_count": 7,
     "metadata": {},
     "output_type": "execute_result"
    }
   ],
   "source": [
    "team_names = nfl_teams[:, 2]\n",
    "team_names_split = String.(reduce(hcat,split.(team_names,' ')))\n",
    "team_names_split = team_names_split[2, :]\n",
    "team_names_split = [nfl_teams[:, 1] map(lowercase, team_names_split)]\n",
    "team_names_split[19:32, 2]"
   ]
  },
  {
   "cell_type": "code",
   "execution_count": 8,
   "metadata": {},
   "outputs": [
    {
     "data": {
      "text/plain": [
       "32×2 Array{Any,2}:\n",
       "  1  \"Datasets/2019 Teams/cardinals_2019.csv\"\n",
       "  2  \"Datasets/2019 Teams/falcons_2019.csv\"\n",
       "  3  \"Datasets/2019 Teams/ravens_2019.csv\"\n",
       "  4  \"Datasets/2019 Teams/bills_2019.csv\"\n",
       "  5  \"Datasets/2019 Teams/panthers_2019.csv\"\n",
       "  6  \"Datasets/2019 Teams/bears_2019.csv\"\n",
       "  7  \"Datasets/2019 Teams/bengals_2019.csv\"\n",
       "  8  \"Datasets/2019 Teams/browns_2019.csv\"\n",
       "  9  \"Datasets/2019 Teams/cowboys_2019.csv\"\n",
       " 10  \"Datasets/2019 Teams/broncos_2019.csv\"\n",
       " 11  \"Datasets/2019 Teams/lions_2019.csv\"\n",
       " 12  \"Datasets/2019 Teams/packers_2019.csv\"\n",
       " 13  \"Datasets/2019 Teams/texans_2019.csv\"\n",
       "  ⋮  \n",
       " 21  \"Datasets/2019 Teams/giants_2019.csv\"\n",
       " 22  \"Datasets/2019 Teams/jets_2019.csv\"\n",
       " 23  \"Datasets/2019 Teams/raiders_2019.csv\"\n",
       " 24  \"Datasets/2019 Teams/eagles_2019.csv\"\n",
       " 25  \"Datasets/2019 Teams/steelers_2019.csv\"\n",
       " 26  \"Datasets/2019 Teams/chargers_2019.csv\"\n",
       " 27  \"Datasets/2019 Teams/49ers_2019.csv\"\n",
       " 28  \"Datasets/2019 Teams/seahawks_2019.csv\"\n",
       " 29  \"Datasets/2019 Teams/rams_2019.csv\"\n",
       " 30  \"Datasets/2019 Teams/buccaneers_2019.csv\"\n",
       " 31  \"Datasets/2019 Teams/titans_2019.csv\"\n",
       " 32  \"Datasets/2019 Teams/redskins_2019.csv\""
      ]
     },
     "execution_count": 8,
     "metadata": {},
     "output_type": "execute_result"
    }
   ],
   "source": [
    "team_paths = []\n",
    "for i in 1:size(team_names_split,1)\n",
    "    team_names_split[i,2] = \"Datasets/2019 Teams/\" * team_names_split[i,2] * \"_2019.csv\"\n",
    "end\n",
    "team_names_split"
   ]
  },
  {
   "cell_type": "code",
   "execution_count": 4,
   "metadata": {},
   "outputs": [
    {
     "ename": "LoadError",
     "evalue": "UndefVarError: team_names_split not defined",
     "output_type": "error",
     "traceback": [
      "UndefVarError: team_names_split not defined",
      "",
      "Stacktrace:",
      " [1] top-level scope at In[4]:2",
      " [2] include_string(::Function, ::Module, ::String, ::String) at ./loading.jl:1091"
     ]
    }
   ],
   "source": [
    "# # now let's create some DataFrame variables\n",
    "# cardinals_19 = CSV.read(team_names_split[1,2])\n",
    "# falcons_19 = CSV.read(team_names_split[2,2])\n",
    "# ravens_19 = CSV.read(team_names_split[3,2])\n",
    "# bills_19 = CSV.read(team_names_split[4,2])\n",
    "# panthers_19 = CSV.read(team_names_split[5,2])\n",
    "# bears_19 = CSV.read(team_names_split[6,2])\n",
    "# bengals_19 = CSV.read(team_names_split[7,2])\n",
    "# browns_19 = CSV.read(team_names_split[8,2])\n",
    "# cowboys_19 = CSV.read(team_names_split[9,2])\n",
    "# broncos_19 = CSV.read(team_names_split[10,2])\n",
    "# lions_19 = CSV.read(team_names_split[11,2])\n",
    "# packers_19 = CSV.read(team_names_split[12,2])\n",
    "# texans_19 = CSV.read(team_names_split[13,2])\n",
    "# colts_19 = CSV.read(team_names_split[14,2])\n",
    "# jaguars_19 = CSV.read(team_names_split[15,2])\n",
    "# chiefs_19 = CSV.read(team_names_split[16,2])\n",
    "# dolphins_19 = CSV.read(team_names_split[17,2])\n",
    "# vikings_19 = CSV.read(team_names_split[18,2])\n",
    "# patriots_19 = CSV.read(team_names_split[19,2])\n",
    "# saints_19 = CSV.read(team_names_split[20,2])\n",
    "# giants_19 = CSV.read(team_names_split[21,2])\n",
    "# jets_19 = CSV.read(team_names_split[22,2])\n",
    "# raiders_19 = CSV.read(team_names_split[23,2])\n",
    "# eagles_19 = CSV.read(team_names_split[24,2])\n",
    "# steelers_19 = CSV.read(team_names_split[25,2])\n",
    "# chargers_19 = CSV.read(team_names_split[26,2])\n",
    "# # note: name different than csv file name\n",
    "# fortyniners_19 = CSV.read(team_names_split[27,2])\n",
    "# seahawsks_19 = CSV.read(team_names_split[28,2])\n",
    "# rams_19 = CSV.read(team_names_split[29,2])\n",
    "# buccaneers_19 = CSV.read(team_names_split[30,2])\n",
    "# titans_19 = CSV.read(team_names_split[31,2])\n",
    "# redskins_19 = CSV.read(team_names_split[32,2])\n",
    "# teams = []\n",
    "# # for i in 1:32\n",
    "# #     teams[i] = CSV.read(team_names_split[i,2])"
   ]
  },
  {
   "cell_type": "code",
   "execution_count": 63,
   "metadata": {},
   "outputs": [],
   "source": [
    "original_teams = Array{DataFrame,1}(undef,32)\n",
    "for i in 1:32\n",
    "#     append!(teams, CSV.read(team_names_split[i,2], header))\n",
    "    original_teams[i] = CSV.read(team_names_split[i,2], header = 2)\n",
    "end"
   ]
  },
  {
   "cell_type": "code",
   "execution_count": 147,
   "metadata": {},
   "outputs": [],
   "source": [
    "teams = copy(original_teams)\n",
    "for i in 1:32    \n",
    "    teams[i] = teams[i][1:17,:]\n",
    "    teams[i] = teams[i][.!(ismissing.(teams[i][!, :Date])), :]\n",
    "    #look into doing all at once\n",
    "    teams[i] = teams[i][:, 1:22]\n",
    "    teams[i] = select!(teams[i], Not(:OT))\n",
    "    teams[i] = select!(teams[i], Not(:Column5))\n",
    "    teams[i] = select!(teams[i], Not(:Column6))\n",
    "    teams[i] = select!(teams[i], Not(:Column4))\n",
    "end"
   ]
  },
  {
   "cell_type": "code",
   "execution_count": 148,
   "metadata": {},
   "outputs": [],
   "source": [
    "for i in 1:32    \n",
    "    insertcols!(teams[i], 6, :Team => trunc.(Int,i*ones(16)))\n",
    "end"
   ]
  },
  {
   "cell_type": "code",
   "execution_count": 149,
   "metadata": {},
   "outputs": [],
   "source": [
    "#showall(teams[18])\n",
    "changeOpp = copy(teams)\n",
    "for k in 1:32\n",
    "    opps = []\n",
    "    for i in 1:16\n",
    "        opp = changeOpp[k][:Opp][i]\n",
    "        idx = 0\n",
    "        for j in 1:32\n",
    "            if nfl_teams_with_spaces[:,2][j] == opp\n",
    "                idx = j\n",
    "            end\n",
    "        end\n",
    "        if idx == 0\n",
    "            print(\"FUCK the $opp and \")\n",
    "        end\n",
    "        append!(opps, idx)\n",
    "    end\n",
    "    insertcols!(changeOpp[k], 7, :Opponent => opps)\n",
    "    changeOpp[k] = select!(changeOpp[k], Not(:Opp))\n",
    "end"
   ]
  },
  {
   "cell_type": "code",
   "execution_count": 152,
   "metadata": {},
   "outputs": [],
   "source": [
    "#pats = copy(teams[12])\n",
    "home = copy(teams)\n",
    "for i in 1:32\n",
    "    home[i][:Column9][Not(ismissing.(home[i][:Column9]))] .= \"0\"\n",
    "    home[i][:Column9][ismissing.(home[i][:Column9])] .= \"1\"\n",
    "end"
   ]
  },
  {
   "cell_type": "code",
   "execution_count": 154,
   "metadata": {},
   "outputs": [
    {
     "name": "stdout",
     "output_type": "stream",
     "text": [
      "16×19 DataFrame\n",
      "│ Row │ Week    │ Day     │ Date         │ Rec     │ Column9 │ Team  │\n",
      "│     │ \u001b[90mString?\u001b[39m │ \u001b[90mString?\u001b[39m │ \u001b[90mString?\u001b[39m      │ \u001b[90mString?\u001b[39m │ \u001b[90mString?\u001b[39m │ \u001b[90mInt64\u001b[39m │\n",
      "├─────┼─────────┼─────────┼──────────────┼─────────┼─────────┼───────┤\n",
      "│ 1   │ 1       │ Thu     │ September 5  │ 1-0     │ 0       │ 12    │\n",
      "│ 2   │ 2       │ Sun     │ September 15 │ 2-0     │ 1       │ 12    │\n",
      "│ 3   │ 3       │ Sun     │ September 22 │ 3-0     │ 1       │ 12    │\n",
      "│ 4   │ 4       │ Thu     │ September 26 │ 3-1     │ 1       │ 12    │\n",
      "│ 5   │ 5       │ Sun     │ October 6    │ 4-1     │ 0       │ 12    │\n",
      "│ 6   │ 6       │ Mon     │ October 14   │ 5-1     │ 1       │ 12    │\n",
      "│ 7   │ 7       │ Sun     │ October 20   │ 6-1     │ 1       │ 12    │\n",
      "│ 8   │ 8       │ Sun     │ October 27   │ 7-1     │ 0       │ 12    │\n",
      "│ 9   │ 9       │ Sun     │ November 3   │ 7-2     │ 0       │ 12    │\n",
      "│ 10  │ 10      │ Sun     │ November 10  │ 8-2     │ 1       │ 12    │\n",
      "│ 11  │ 12      │ Sun     │ November 24  │ 8-3     │ 0       │ 12    │\n",
      "│ 12  │ 13      │ Sun     │ December 1   │ 9-3     │ 0       │ 12    │\n",
      "│ 13  │ 14      │ Sun     │ December 8   │ 10-3    │ 1       │ 12    │\n",
      "│ 14  │ 15      │ Sun     │ December 15  │ 11-3    │ 1       │ 12    │\n",
      "│ 15  │ 16      │ Mon     │ December 23  │ 12-3    │ 0       │ 12    │\n",
      "│ 16  │ 17      │ Sun     │ December 29  │ 13-3    │ 0       │ 12    │\n",
      "\n",
      "│ Row │ Opponent │ Tm     │ Opp_1  │ 1stD   │ TotYd  │ PassY  │ RushY  │\n",
      "│     │ \u001b[90mAny\u001b[39m      │ \u001b[90mInt64?\u001b[39m │ \u001b[90mInt64?\u001b[39m │ \u001b[90mInt64?\u001b[39m │ \u001b[90mInt64?\u001b[39m │ \u001b[90mInt64?\u001b[39m │ \u001b[90mInt64?\u001b[39m │\n",
      "├─────┼──────────┼────────┼────────┼────────┼────────┼────────┼────────┤\n",
      "│ 1   │ 6        │ 10     │ 3      │ 13     │ 213    │ 166    │ 47     │\n",
      "│ 2   │ 18       │ 21     │ 16     │ 20     │ 335    │ 191    │ 144    │\n",
      "│ 3   │ 10       │ 27     │ 16     │ 16     │ 312    │ 235    │ 77     │\n",
      "│ 4   │ 24       │ 27     │ 34     │ 31     │ 491    │ 414    │ 77     │\n",
      "│ 5   │ 9        │ 34     │ 24     │ 24     │ 335    │ 215    │ 120    │\n",
      "│ 6   │ 11       │ 23     │ 22     │ 22     │ 447    │ 277    │ 170    │\n",
      "│ 7   │ 23       │ 42     │ 24     │ 22     │ 481    │ 421    │ 60     │\n",
      "│ 8   │ 16       │ 31     │ 24     │ 21     │ 374    │ 256    │ 118    │\n",
      "│ 9   │ 26       │ 11     │ 26     │ 13     │ 184    │ 139    │ 45     │\n",
      "│ 10  │ 5        │ 24     │ 16     │ 23     │ 388    │ 225    │ 163    │\n",
      "│ 11  │ 27       │ 8      │ 37     │ 19     │ 198    │ 81     │ 117    │\n",
      "│ 12  │ 21       │ 31     │ 13     │ 19     │ 322    │ 243    │ 79     │\n",
      "│ 13  │ 32       │ 20     │ 15     │ 18     │ 341    │ 167    │ 174    │\n",
      "│ 14  │ 6        │ 21     │ 13     │ 12     │ 292    │ 192    │ 100    │\n",
      "│ 15  │ 18       │ 23     │ 10     │ 22     │ 383    │ 199    │ 184    │\n",
      "│ 16  │ 11       │ 23     │ 20     │ 25     │ 432    │ 312    │ 120    │\n",
      "\n",
      "│ Row │ TO      │ 1stD_1 │ TotYd_1 │ PassY_1 │ RushY_1 │ TO_1    │\n",
      "│     │ \u001b[90mInt64?\u001b[39m  │ \u001b[90mInt64?\u001b[39m │ \u001b[90mInt64?\u001b[39m  │ \u001b[90mInt64?\u001b[39m  │ \u001b[90mInt64?\u001b[39m  │ \u001b[90mInt64?\u001b[39m  │\n",
      "├─────┼─────────┼────────┼─────────┼─────────┼─────────┼─────────┤\n",
      "│ 1   │ \u001b[90mmissing\u001b[39m │ 16     │ 254     │ 208     │ 46      │ 1       │\n",
      "│ 2   │ 2       │ 15     │ 421     │ 223     │ 198     │ 4       │\n",
      "│ 3   │ \u001b[90mmissing\u001b[39m │ 20     │ 310     │ 161     │ 149     │ 3       │\n",
      "│ 4   │ 2       │ 24     │ 336     │ 160     │ 176     │ \u001b[90mmissing\u001b[39m │\n",
      "│ 5   │ \u001b[90mmissing\u001b[39m │ 32     │ 563     │ 441     │ 122     │ 3       │\n",
      "│ 6   │ 3       │ 13     │ 299     │ 243     │ 56      │ \u001b[90mmissing\u001b[39m │\n",
      "│ 7   │ \u001b[90mmissing\u001b[39m │ 21     │ 484     │ 329     │ 155     │ 2       │\n",
      "│ 8   │ \u001b[90mmissing\u001b[39m │ 21     │ 337     │ 249     │ 88      │ 1       │\n",
      "│ 9   │ \u001b[90mmissing\u001b[39m │ 24     │ 442     │ 283     │ 159     │ \u001b[90mmissing\u001b[39m │\n",
      "│ 10  │ \u001b[90mmissing\u001b[39m │ 26     │ 401     │ 281     │ 120     │ 2       │\n",
      "│ 11  │ 1       │ 16     │ 339     │ 227     │ 112     │ \u001b[90mmissing\u001b[39m │\n",
      "│ 12  │ \u001b[90mmissing\u001b[39m │ 20     │ 335     │ 240     │ 95      │ 3       │\n",
      "│ 13  │ 1       │ 18     │ 262     │ 141     │ 121     │ 1       │\n",
      "│ 14  │ \u001b[90mmissing\u001b[39m │ 20     │ 415     │ 319     │ 96      │ 3       │\n",
      "│ 15  │ 3       │ 7      │ 139     │ 82      │ 57      │ 1       │\n",
      "│ 16  │ 1       │ 17     │ 305     │ 134     │ 171     │ 1       │"
     ]
    }
   ],
   "source": [
    "showall(home[12])"
   ]
  },
  {
   "cell_type": "code",
   "execution_count": 137,
   "metadata": {},
   "outputs": [
    {
     "data": {
      "text/plain": [
       "16-element PooledArrays.PooledArray{Union{Missing, String},UInt32,1,Array{UInt32,1}}:\n",
       " \"@\"\n",
       " missing\n",
       " missing\n",
       " missing\n",
       " \"@\"\n",
       " missing\n",
       " missing\n",
       " \"@\"\n",
       " \"@\"\n",
       " missing\n",
       " \"@\"\n",
       " \"@\"\n",
       " missing\n",
       " missing\n",
       " \"@\"\n",
       " \"@\""
      ]
     },
     "execution_count": 137,
     "metadata": {},
     "output_type": "execute_result"
    }
   ],
   "source": [
    "teams[12][:Column9]"
   ]
  },
  {
   "cell_type": "code",
   "execution_count": null,
   "metadata": {},
   "outputs": [],
   "source": []
  }
 ],
 "metadata": {
  "kernelspec": {
   "display_name": "Julia 1.5.1",
   "language": "julia",
   "name": "julia-1.5"
  },
  "language_info": {
   "file_extension": ".jl",
   "mimetype": "application/julia",
   "name": "julia",
   "version": "1.5.1"
  }
 },
 "nbformat": 4,
 "nbformat_minor": 4
}
