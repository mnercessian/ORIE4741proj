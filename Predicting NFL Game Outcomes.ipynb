{
 "cells": [
  {
   "cell_type": "markdown",
   "metadata": {},
   "source": [
    "# Predicting NFL Game Outcomes\n",
    "## Rohan Lewis, Michael Nercessian, Matthew Armstrong"
   ]
  },
  {
   "cell_type": "markdown",
   "metadata": {},
   "source": [
    "# 2019 NFL Game by Game Data\n",
    "\n",
    "We first manually downloaded our data from this source: https://www.pro-football-reference.com/teams/\n",
    "\n",
    "Our first step will be to import all of the modules we need, and then load the data."
   ]
  },
  {
   "cell_type": "code",
   "execution_count": 81,
   "metadata": {},
   "outputs": [
    {
     "name": "stderr",
     "output_type": "stream",
     "text": [
      "\u001b[32m\u001b[1m  Resolving\u001b[22m\u001b[39m package versions...\n",
      "\u001b[32m\u001b[1mNo Changes\u001b[22m\u001b[39m to `~/.julia/environments/v1.5/Project.toml`\n",
      "\u001b[32m\u001b[1mNo Changes\u001b[22m\u001b[39m to `~/.julia/environments/v1.5/Manifest.toml`\n",
      "\u001b[32m\u001b[1m  Resolving\u001b[22m\u001b[39m package versions...\n",
      "\u001b[32m\u001b[1mNo Changes\u001b[22m\u001b[39m to `~/.julia/environments/v1.5/Project.toml`\n",
      "\u001b[32m\u001b[1mNo Changes\u001b[22m\u001b[39m to `~/.julia/environments/v1.5/Manifest.toml`\n",
      "\u001b[32m\u001b[1m  Resolving\u001b[22m\u001b[39m package versions...\n",
      "\u001b[32m\u001b[1mNo Changes\u001b[22m\u001b[39m to `~/.julia/environments/v1.5/Project.toml`\n",
      "\u001b[32m\u001b[1mNo Changes\u001b[22m\u001b[39m to `~/.julia/environments/v1.5/Manifest.toml`\n",
      "\u001b[32m\u001b[1m  Resolving\u001b[22m\u001b[39m package versions...\n",
      "\u001b[32m\u001b[1mNo Changes\u001b[22m\u001b[39m to `~/.julia/environments/v1.5/Project.toml`\n",
      "\u001b[32m\u001b[1mNo Changes\u001b[22m\u001b[39m to `~/.julia/environments/v1.5/Manifest.toml`\n"
     ]
    }
   ],
   "source": [
    "import Pkg\n",
    "Pkg.add(\"CSV\")\n",
    "Pkg.add(\"Plots\")\n",
    "Pkg.add(\"DataFrames\")\n",
    "Pkg.add(\"Statistics\")"
   ]
  },
  {
   "cell_type": "code",
   "execution_count": 1,
   "metadata": {},
   "outputs": [],
   "source": [
    "using Random\n",
    "using CSV\n",
    "using Plots\n",
    "using DataFrames\n",
    "using Statistics"
   ]
  },
  {
   "cell_type": "code",
   "execution_count": 2,
   "metadata": {},
   "outputs": [
    {
     "name": "stdout",
     "output_type": "stream",
     "text": [
      "32×5 DataFrame\n",
      "│ Row │ ID    │ Name                 │ Abbreviation │ Conference │ Division │\n",
      "│     │ \u001b[90mInt64\u001b[39m │ \u001b[90mString\u001b[39m               │ \u001b[90mString\u001b[39m       │ \u001b[90mString\u001b[39m     │ \u001b[90mString\u001b[39m   │\n",
      "├─────┼───────┼──────────────────────┼──────────────┼────────────┼──────────┤\n",
      "│ 1   │ 1     │ Arizona Cardinals    │ ARI          │ NFC        │ West     │\n",
      "│ 2   │ 2     │ Atlanta Falcons      │ ATL          │ NFC        │ South    │\n",
      "│ 3   │ 3     │ Baltimore Ravens     │ BAL          │ AFC        │ North    │\n",
      "│ 4   │ 4     │ Buffalo Bills        │ BUF          │ AFC        │ East     │\n",
      "│ 5   │ 5     │ Carolina Panthers    │ CAR          │ NFC        │ South    │\n",
      "│ 6   │ 6     │ Chicago Bears        │ CHI          │ NFC        │ North    │\n",
      "│ 7   │ 7     │ Cincinnati Bengals   │ CIN          │ AFC        │ North    │\n",
      "│ 8   │ 8     │ Cleveland Browns     │ CLE          │ AFC        │ North    │\n",
      "│ 9   │ 9     │ Dallas Cowboys       │ DAL          │ NFC        │ East     │\n",
      "│ 10  │ 10    │ Denver Broncos       │ DEN          │ AFC        │ West     │\n",
      "│ 11  │ 11    │ Detroit Lions        │ DET          │ NFC        │ North    │\n",
      "│ 12  │ 12    │ Green Bay Packers    │ GB           │ NFC        │ North    │\n",
      "│ 13  │ 13    │ Houston Texans       │ HOU          │ AFC        │ South    │\n",
      "│ 14  │ 14    │ Indianapolis Colts   │ IND          │ AFC        │ South    │\n",
      "│ 15  │ 15    │ Jacksonville Jaguars │ JAX          │ AFC        │ South    │\n",
      "│ 16  │ 16    │ Kansas City Chiefs   │ KC           │ AFC        │ West     │\n",
      "│ 17  │ 17    │ Miami Dolphins       │ MIA          │ AFC        │ East     │\n",
      "│ 18  │ 18    │ Minnesota Vikings    │ MIN          │ NFC        │ North    │\n",
      "│ 19  │ 19    │ New England Patriots │ NE           │ AFC        │ East     │\n",
      "│ 20  │ 20    │ New Orleans Saints   │ NO           │ NFC        │ South    │\n",
      "│ 21  │ 21    │ New York Giants      │ NYG          │ NFC        │ East     │\n",
      "│ 22  │ 22    │ New York Jets        │ NYJ          │ AFC        │ East     │\n",
      "│ 23  │ 23    │ Oakland Raiders      │ LV           │ AFC        │ West     │\n",
      "│ 24  │ 24    │ Philadelphia Eagles  │ PHI          │ NFC        │ East     │\n",
      "│ 25  │ 25    │ Pittsburgh Steelers  │ PIT          │ AFC        │ North    │\n",
      "│ 26  │ 26    │ Los Angeles Chargers │ LAC          │ AFC        │ West     │\n",
      "│ 27  │ 27    │ San Francisco 49ers  │ SF           │ NFC        │ West     │\n",
      "│ 28  │ 28    │ Seattle Seahawks     │ SEA          │ NFC        │ West     │\n",
      "│ 29  │ 29    │ Los Angeles Rams     │ LAR          │ NFC        │ West     │\n",
      "│ 30  │ 30    │ Tampa Bay Buccaneers │ TB           │ NFC        │ South    │\n",
      "│ 31  │ 31    │ Tennessee Titans     │ TEN          │ AFC        │ South    │\n",
      "│ 32  │ 32    │ Washington Redskins  │ WAS          │ NFC        │ East     │"
     ]
    }
   ],
   "source": [
    "nfl_teams = CSV.read(\"Datasets/nfl_teams.csv\")\n",
    "nfl_teams_with_spaces = CSV.read(\"Datasets/nfl_teams_with_spaces.csv\")\n",
    "showall(nfl_teams_with_spaces)"
   ]
  },
  {
   "cell_type": "code",
   "execution_count": 3,
   "metadata": {},
   "outputs": [],
   "source": [
    "abbreviations = [nfl_teams[:, 1] nfl_teams[:, 3]];"
   ]
  },
  {
   "cell_type": "code",
   "execution_count": 4,
   "metadata": {},
   "outputs": [],
   "source": [
    "team_names = nfl_teams[:, 2]\n",
    "team_names_split = String.(reduce(hcat,split.(team_names,' ')))\n",
    "team_names_split = team_names_split[2, :]\n",
    "team_names_split = [nfl_teams[:, 1] map(lowercase, team_names_split)];"
   ]
  },
  {
   "cell_type": "code",
   "execution_count": 5,
   "metadata": {},
   "outputs": [],
   "source": [
    "team_paths = []\n",
    "for i in 1:size(team_names_split,1)\n",
    "    team_names_split[i,2] = \"Datasets/2019 Teams/\" * team_names_split[i,2] * \"_2019.csv\"\n",
    "end\n",
    "team_names_split;"
   ]
  },
  {
   "cell_type": "code",
   "execution_count": 6,
   "metadata": {},
   "outputs": [
    {
     "ename": "LoadError",
     "evalue": "syntax: \"%\" is not a unary operator",
     "output_type": "error",
     "traceback": [
      "syntax: \"%\" is not a unary operator",
      "",
      "Stacktrace:",
      " [1] top-level scope at In[6]:38",
      " [2] include_string(::Function, ::Module, ::String, ::String) at ./loading.jl:1091"
     ]
    }
   ],
   "source": [
    "# # now let's create some DataFrame variables\n",
    "# cardinals_19 = CSV.read(team_names_split[1,2])\n",
    "# falcons_19 = CSV.read(team_names_split[2,2])\n",
    "# ravens_19 = CSV.read(team_names_split[3,2])\n",
    "# bills_19 = CSV.read(team_names_split[4,2])\n",
    "# panthers_19 = CSV.read(team_names_split[5,2])\n",
    "# bears_19 = CSV.read(team_names_split[6,2])\n",
    "# bengals_19 = CSV.read(team_names_split[7,2])\n",
    "# browns_19 = CSV.read(team_names_split[8,2])\n",
    "# cowboys_19 = CSV.read(team_names_split[9,2])\n",
    "# broncos_19 = CSV.read(team_names_split[10,2])\n",
    "# lions_19 = CSV.read(team_names_split[11,2])\n",
    "# packers_19 = CSV.read(team_names_split[12,2])\n",
    "# texans_19 = CSV.read(team_names_split[13,2])\n",
    "# colts_19 = CSV.read(team_names_split[14,2])\n",
    "# jaguars_19 = CSV.read(team_names_split[15,2])\n",
    "# chiefs_19 = CSV.read(team_names_split[16,2])\n",
    "# dolphins_19 = CSV.read(team_names_split[17,2])\n",
    "# vikings_19 = CSV.read(team_names_split[18,2])\n",
    "# patriots_19 = CSV.read(team_names_split[19,2])\n",
    "# saints_19 = CSV.read(team_names_split[20,2])\n",
    "# giants_19 = CSV.read(team_names_split[21,2])\n",
    "# jets_19 = CSV.read(team_names_split[22,2])\n",
    "# raiders_19 = CSV.read(team_names_split[23,2])\n",
    "# eagles_19 = CSV.read(team_names_split[24,2])\n",
    "# steelers_19 = CSV.read(team_names_split[25,2])\n",
    "# chargers_19 = CSV.read(team_names_split[26,2])\n",
    "# # note: name different than csv file name\n",
    "# fortyniners_19 = CSV.read(team_names_split[27,2])\n",
    "# seahawsks_19 = CSV.read(team_names_split[28,2])\n",
    "# rams_19 = CSV.read(team_names_split[29,2])\n",
    "# buccaneers_19 = CSV.read(team_names_split[30,2])\n",
    "# titans_19 = CSV.read(team_names_split[31,2])\n",
    "# redskins_19 = CSV.read(team_names_split[32,2])\n",
    "# teams = []\n",
    "# # for i in 1:32\n",
    "# #     teams[i] = CSV.read(team_names_split[i,2])"
   ]
  },
  {
   "cell_type": "code",
   "execution_count": 136,
   "metadata": {},
   "outputs": [],
   "source": [
    "original_teams = Array{DataFrame,1}(undef,32)\n",
    "for i in 1:32\n",
    "    original_teams[i] = CSV.read(team_names_split[i,2], header = 2)\n",
    "end"
   ]
  },
  {
   "cell_type": "code",
   "execution_count": 274,
   "metadata": {},
   "outputs": [],
   "source": [
    "teams = copy(original_teams);"
   ]
  },
  {
   "cell_type": "code",
   "execution_count": 275,
   "metadata": {},
   "outputs": [],
   "source": [
    "# teams[1][:Column9][Not(ismissing.(teams[1][:Column9]))] .= \"-1\"\n",
    "# teams[1][:Column9][ismissing.(teams[1][:Column9])] .= \"1\"\n",
    "# parse.(Int64,teams[1][:Column9])\n",
    "\n",
    "# teams[1][!,:Column9] = convert.(Int64,teams[1][!,:Column9])"
   ]
  },
  {
   "cell_type": "code",
   "execution_count": 276,
   "metadata": {},
   "outputs": [],
   "source": [
    "#clean up the data\n",
    "for i in 1:32\n",
    "    #select regular season weeks only\n",
    "    teams[i] = teams[i][1:17,:]\n",
    "    \n",
    "    #remove bye weeks\n",
    "    teams[i] = teams[i][.!(ismissing.(teams[i][!, :Date])), :]\n",
    "    \n",
    "    #trim out irrelevant columns\n",
    "    teams[i] = teams[i][:, 1:22]\n",
    "    teams[i] = select!(teams[i], Not(:OT))\n",
    "    teams[i] = select!(teams[i], Not(:Column5))\n",
    "    teams[i] = select!(teams[i], Not(:Column6))\n",
    "    teams[i] = select!(teams[i], Not(:Column4))\n",
    "    \n",
    "    #insert identifier for team\n",
    "    insertcols!(teams[i], 6, :Team => trunc.(Int,i*ones(16)))\n",
    "    \n",
    "    #insert identifier for opponents\n",
    "    opps = []\n",
    "#     isHome = ones(16)\n",
    "    for k in 1:16\n",
    "        opp = teams[i][:Opp][k]\n",
    "        idx = 0\n",
    "        for j in 1:32\n",
    "            if nfl_teams_with_spaces[:,2][j] == opp\n",
    "                idx = j\n",
    "            end\n",
    "        end\n",
    "        append!(opps, idx)\n",
    "#         if ismissing(teams[i][:Column9][k])\n",
    "#             isHome[i]*=-1\n",
    "    end\n",
    "    insertcols!(teams[i], 7, :Opponent => opps)\n",
    "    teams[i] = select!(teams[i], Not(:Opp))\n",
    "    \n",
    "    #clean up home/away column\n",
    "    teams[i][:Column9][Not(ismissing.(teams[i][:Column9]))] .= \"0\"\n",
    "    teams[i][:Column9][ismissing.(teams[i][:Column9])] .= \"1\"\n",
    "    \n",
    "    teams[i][:TO][ismissing.(teams[i][:TO])] .= 0\n",
    "    teams[i][:TO_1][ismissing.(teams[i][:TO_1])] .= 0\n",
    "    \n",
    "    rename!(teams[i], :Column9 => :isHome)\n",
    "    rename!(teams[i], :Column9 => :isHome)\n",
    "    parse.(Int64,teams[i][:isHome])\n",
    "    if typeof(teams[i][:Week][1]) == String\n",
    "        teams[i][:Week] = [parse(Int,x) for x in teams[i][:Week]]\n",
    "    end\n",
    "end"
   ]
  },
  {
   "cell_type": "code",
   "execution_count": 167,
   "metadata": {},
   "outputs": [],
   "source": [
    "# for i in 1:32    \n",
    "#     insertcols!(teams[i], 6, :Team => trunc.(Int,i*ones(16)))\n",
    "# end"
   ]
  },
  {
   "cell_type": "code",
   "execution_count": 168,
   "metadata": {},
   "outputs": [],
   "source": [
    "# #showall(teams[18])\n",
    "# changeOpp = copy(teams)\n",
    "# for k in 1:32\n",
    "#     opps = []\n",
    "#     for i in 1:16\n",
    "#         opp = changeOpp[k][:Opp][i]\n",
    "#         idx = 0\n",
    "#         for j in 1:32\n",
    "#             if nfl_teams_with_spaces[:,2][j] == opp\n",
    "#                 idx = j\n",
    "#             end\n",
    "#         end\n",
    "#         append!(opps, idx)\n",
    "#     end\n",
    "#     insertcols!(changeOpp[k], 7, :Opponent => opps)\n",
    "#     changeOpp[k] = select!(changeOpp[k], Not(:Opp))\n",
    "# end"
   ]
  },
  {
   "cell_type": "code",
   "execution_count": 169,
   "metadata": {},
   "outputs": [],
   "source": [
    "# #pats = copy(teams[12])\n",
    "# home = copy(teams)\n",
    "# for i in 1:32\n",
    "#     home[i][:Column9][Not(ismissing.(home[i][:Column9]))] .= \"0\"\n",
    "#     home[i][:Column9][ismissing.(home[i][:Column9])] .= \"1\"\n",
    "# end"
   ]
  },
  {
   "cell_type": "code",
   "execution_count": 278,
   "metadata": {},
   "outputs": [
    {
     "name": "stdout",
     "output_type": "stream",
     "text": [
      "16×19 DataFrame\n",
      "│ Row │ Week  │ Day     │ Date         │ Rec     │ isHome  │ Team  │ Opponent │\n",
      "│     │ \u001b[90mInt64\u001b[39m │ \u001b[90mString?\u001b[39m │ \u001b[90mString?\u001b[39m      │ \u001b[90mString?\u001b[39m │ \u001b[90mString?\u001b[39m │ \u001b[90mInt64\u001b[39m │ \u001b[90mAny\u001b[39m      │\n",
      "├─────┼───────┼─────────┼──────────────┼─────────┼─────────┼───────┼──────────┤\n",
      "│ 1   │ 1     │ Mon     │ September 9  │ 1-0     │ 1       │ 20    │ 13       │\n",
      "│ 2   │ 2     │ Sun     │ September 15 │ 1-1     │ 0       │ 20    │ 29       │\n",
      "│ 3   │ 3     │ Sun     │ September 22 │ 2-1     │ 0       │ 20    │ 28       │\n",
      "│ 4   │ 4     │ Sun     │ September 29 │ 3-1     │ 1       │ 20    │ 9        │\n",
      "│ 5   │ 5     │ Sun     │ October 6    │ 4-1     │ 1       │ 20    │ 30       │\n",
      "│ 6   │ 6     │ Sun     │ October 13   │ 5-1     │ 0       │ 20    │ 15       │\n",
      "│ 7   │ 7     │ Sun     │ October 20   │ 6-1     │ 0       │ 20    │ 6        │\n",
      "│ 8   │ 8     │ Sun     │ October 27   │ 7-1     │ 1       │ 20    │ 1        │\n",
      "│ 9   │ 10    │ Sun     │ November 10  │ 7-2     │ 1       │ 20    │ 2        │\n",
      "│ 10  │ 11    │ Sun     │ November 17  │ 8-2     │ 0       │ 20    │ 30       │\n",
      "│ 11  │ 12    │ Sun     │ November 24  │ 9-2     │ 1       │ 20    │ 5        │\n",
      "│ 12  │ 13    │ Thu     │ November 28  │ 10-2    │ 0       │ 20    │ 2        │\n",
      "│ 13  │ 14    │ Sun     │ December 8   │ 10-3    │ 1       │ 20    │ 27       │\n",
      "│ 14  │ 15    │ Mon     │ December 16  │ 11-3    │ 1       │ 20    │ 14       │\n",
      "│ 15  │ 16    │ Sun     │ December 22  │ 12-3    │ 0       │ 20    │ 31       │\n",
      "│ 16  │ 17    │ Sun     │ December 29  │ 13-3    │ 0       │ 20    │ 5        │\n",
      "\n",
      "│ Row │ Tm     │ Opp_1  │ 1stD   │ TotYd  │ PassY  │ RushY  │ TO     │ 1stD_1 │\n",
      "│     │ \u001b[90mInt64?\u001b[39m │ \u001b[90mInt64?\u001b[39m │ \u001b[90mInt64?\u001b[39m │ \u001b[90mInt64?\u001b[39m │ \u001b[90mInt64?\u001b[39m │ \u001b[90mInt64?\u001b[39m │ \u001b[90mInt64?\u001b[39m │ \u001b[90mInt64?\u001b[39m │\n",
      "├─────┼────────┼────────┼────────┼────────┼────────┼────────┼────────┼────────┤\n",
      "│ 1   │ 30     │ 28     │ 25     │ 510    │ 362    │ 148    │ 1      │ 22     │\n",
      "│ 2   │ 9      │ 27     │ 15     │ 244    │ 187    │ 57     │ 1      │ 20     │\n",
      "│ 3   │ 33     │ 27     │ 15     │ 265    │ 177    │ 88     │ 1      │ 26     │\n",
      "│ 4   │ 12     │ 10     │ 18     │ 266    │ 149    │ 117    │ 1      │ 15     │\n",
      "│ 5   │ 31     │ 24     │ 25     │ 457    │ 345    │ 112    │ 1      │ 19     │\n",
      "│ 6   │ 13     │ 6      │ 18     │ 326    │ 222    │ 104    │ 0      │ 11     │\n",
      "│ 7   │ 36     │ 25     │ 24     │ 424    │ 273    │ 151    │ 0      │ 16     │\n",
      "│ 8   │ 31     │ 9      │ 28     │ 510    │ 373    │ 137    │ 1      │ 10     │\n",
      "│ 9   │ 9      │ 26     │ 18     │ 310    │ 258    │ 52     │ 0      │ 24     │\n",
      "│ 10  │ 34     │ 17     │ 21     │ 328    │ 219    │ 109    │ 0      │ 21     │\n",
      "│ 11  │ 34     │ 31     │ 23     │ 418    │ 300    │ 118    │ 1      │ 26     │\n",
      "│ 12  │ 26     │ 18     │ 14     │ 279    │ 184    │ 95     │ 0      │ 27     │\n",
      "│ 13  │ 46     │ 48     │ 28     │ 465    │ 349    │ 116    │ 1      │ 25     │\n",
      "│ 14  │ 34     │ 7      │ 27     │ 424    │ 307    │ 117    │ 0      │ 16     │\n",
      "│ 15  │ 38     │ 28     │ 23     │ 377    │ 275    │ 102    │ 0      │ 17     │\n",
      "│ 16  │ 42     │ 10     │ 25     │ 379    │ 264    │ 115    │ 0      │ 16     │\n",
      "\n",
      "│ Row │ TotYd_1 │ PassY_1 │ RushY_1 │ TO_1   │\n",
      "│     │ \u001b[90mInt64?\u001b[39m  │ \u001b[90mInt64?\u001b[39m  │ \u001b[90mInt64?\u001b[39m  │ \u001b[90mInt64?\u001b[39m │\n",
      "├─────┼─────────┼─────────┼─────────┼────────┤\n",
      "│ 1   │ 414     │ 234     │ 180     │ 1      │\n",
      "│ 2   │ 380     │ 265     │ 115     │ 1      │\n",
      "│ 3   │ 514     │ 406     │ 108     │ 1      │\n",
      "│ 4   │ 257     │ 212     │ 45      │ 3      │\n",
      "│ 5   │ 252     │ 158     │ 94      │ 0      │\n",
      "│ 6   │ 226     │ 151     │ 75      │ 1      │\n",
      "│ 7   │ 252     │ 235     │ 17      │ 2      │\n",
      "│ 8   │ 237     │ 197     │ 40      │ 0      │\n",
      "│ 9   │ 317     │ 174     │ 143     │ 1      │\n",
      "│ 10  │ 334     │ 298     │ 36      │ 4      │\n",
      "│ 11  │ 351     │ 230     │ 121     │ 1      │\n",
      "│ 12  │ 348     │ 259     │ 89      │ 3      │\n",
      "│ 13  │ 516     │ 354     │ 162     │ 1      │\n",
      "│ 14  │ 205     │ 159     │ 46      │ 0      │\n",
      "│ 15  │ 397     │ 248     │ 149     │ 1      │\n",
      "│ 16  │ 329     │ 288     │ 41      │ 3      │"
     ]
    }
   ],
   "source": [
    "#showall(home[1])\n",
    "#rename!(home[1], :Column9 => :isHome)\n",
    "# parse.(Int64,home[1][:isHome])\n",
    "showall(teams[20])"
   ]
  },
  {
   "cell_type": "code",
   "execution_count": 279,
   "metadata": {},
   "outputs": [],
   "source": [
    "# season_data = DataFrame(teams[1])\n",
    "\n",
    "#concatenate all game data\n",
    "final = DataFrame(teams[1])\n",
    "for i in 2:32\n",
    "    final = vcat(final, teams[i])\n",
    "end"
   ]
  },
  {
   "cell_type": "code",
   "execution_count": 333,
   "metadata": {},
   "outputs": [],
   "source": [
    "final_home_only = filter(row -> row[:isHome] == \"1\", final);"
   ]
  },
  {
   "cell_type": "code",
   "execution_count": 304,
   "metadata": {},
   "outputs": [
    {
     "data": {
      "text/plain": [
       "0.8571428571428571"
      ]
     },
     "execution_count": 304,
     "metadata": {},
     "output_type": "execute_result"
    }
   ],
   "source": [
    "# n = size(final)[1]\n",
    "\n",
    "# pats4 = copy(final[8,:])\n",
    "\n",
    "# mult = 1\n",
    "# if pats4[:isHome] == \"0\"\n",
    "#     mult = -1\n",
    "#     awayID = pats4[:Team]\n",
    "#     homeID = pats4[:Opponent]\n",
    "# else\n",
    "#     homeID = pats4[:Team]\n",
    "#     awayID = pats4[:Opponent]\n",
    "# end\n",
    "\n",
    "# ptsdif = mult*(pats4[:Tm] - pats4[:Opp_1])\n",
    "\n",
    "# week = pats4[:Week]\n",
    "\n",
    "# teamID = pats4[:Team]\n",
    "# oppID = pats4[:Opponent]\n",
    "\n",
    "# homeData = filter(row -> row[:Team] == homeID, final);\n",
    "# homeData = filter(row -> row[:Week] in 1:(week-1), homeData);\n",
    "# awayData = filter(row -> row[:Team] == awayID, final);\n",
    "# awayData = filter(row -> row[:Week] in 1:(week-1), awayData);\n",
    "\n",
    "# wins = sign.(homeData[:,:Tm] .- homeData[:,:Opp_1])\n",
    "# wins[wins .== -1] .= 0\n",
    "# homeWinPercent = mean(wins)\n",
    "\n",
    "# awins = sign.(awayData[:,:Tm] .- awayData[:,:Opp_1])\n",
    "# awins[awins .== -1] .= 0\n",
    "# awayWinPercent = mean(awins)\n",
    "\n",
    "# homePPG = mean(homeData[:Tm])\n",
    "# awayPPG = mean(awayData[:Tm])\n",
    "\n",
    "# home1stD = mean(homeData[Symbol(\"1stD\")])\n",
    "# away1stD = mean(awayData[Symbol(\"1stD\")])\n",
    "\n",
    "# homeRushPG = mean(homeData[:RushY])\n",
    "# awayRushPG = mean(awayData[:RushY])\n",
    "\n",
    "# homePassPG = mean(homeData[:PassY])\n",
    "# awayPassPG = mean(awayData[:PassY])\n",
    "\n",
    "# homeTOPG = mean(homeData[:TO])\n",
    "# awayTOPG = mean(awayData[:TO])\n",
    "\n",
    "# homePPGAllowed = mean(homeData[:Opp_1])\n",
    "# awayPPGAllowed = mean(awayData[:Opp_1])\n",
    "\n",
    "# home1stDAllowed = mean(homeData[Symbol(\"1stD_1\")])\n",
    "# away1stDAllowed = mean(awayData[Symbol(\"1stD_1\")])\n",
    "\n",
    "# homeRushPGAllowed = mean(homeData[:RushY_1])\n",
    "# awayRushPGAllowed = mean(awayData[:RushY_1])\n",
    "\n",
    "# homePassPGAllowed = mean(homeData[:PassY_1])\n",
    "# awayPassPGAllowed = mean(awayData[:PassY_1])\n",
    "\n",
    "# homeTakeawaysPG = mean(homeData[:TO_1])\n",
    "# awayTakeawaysPG = mean(awayData[:TO_1])\n",
    "# # final[final[:Week] .< week, :]"
   ]
  },
  {
   "cell_type": "code",
   "execution_count": 334,
   "metadata": {},
   "outputs": [
    {
     "data": {
      "text/html": [
       "<table class=\"data-frame\"><thead><tr><th></th><th>Week</th><th>Home</th><th>Away</th><th>PointDif</th><th>HomeWin%</th><th>AwayWin%</th><th>HomePtsPG</th><th>HomeAvg1stDPG</th></tr><tr><th></th><th>Float64</th><th>Float64</th><th>Float64</th><th>Float64</th><th>Float64</th><th>Float64</th><th>Float64</th><th>Float64</th></tr></thead><tbody><p>480 rows × 26 columns (omitted printing of 18 columns)</p><tr><th>1</th><td>2.0</td><td>3.0</td><td>1.0</td><td>6.0</td><td>1.0</td><td>0.0</td><td>59.0</td><td>31.0</td></tr><tr><th>2</th><td>3.0</td><td>1.0</td><td>5.0</td><td>-18.0</td><td>0.0</td><td>0.0</td><td>22.0</td><td>18.0</td></tr><tr><th>3</th><td>4.0</td><td>1.0</td><td>28.0</td><td>-17.0</td><td>0.0</td><td>0.666667</td><td>21.3333</td><td>19.0</td></tr><tr><th>4</th><td>5.0</td><td>7.0</td><td>1.0</td><td>-3.0</td><td>0.0</td><td>0.0</td><td>14.25</td><td>17.25</td></tr><tr><th>5</th><td>6.0</td><td>1.0</td><td>2.0</td><td>1.0</td><td>0.2</td><td>0.2</td><td>20.0</td><td>20.6</td></tr><tr><th>6</th><td>7.0</td><td>21.0</td><td>1.0</td><td>-6.0</td><td>0.333333</td><td>0.333333</td><td>18.5</td><td>19.1667</td></tr><tr><th>7</th><td>8.0</td><td>20.0</td><td>1.0</td><td>22.0</td><td>0.857143</td><td>0.428571</td><td>23.4286</td><td>20.0</td></tr><tr><th>8</th><td>9.0</td><td>1.0</td><td>27.0</td><td>-3.0</td><td>0.375</td><td>1.0</td><td>21.25</td><td>19.375</td></tr><tr><th>9</th><td>10.0</td><td>30.0</td><td>1.0</td><td>3.0</td><td>0.25</td><td>0.333333</td><td>28.75</td><td>22.75</td></tr><tr><th>10</th><td>11.0</td><td>27.0</td><td>1.0</td><td>10.0</td><td>0.888889</td><td>0.3</td><td>28.7778</td><td>21.8889</td></tr><tr><th>11</th><td>13.0</td><td>1.0</td><td>29.0</td><td>-27.0</td><td>0.272727</td><td>0.545455</td><td>22.5455</td><td>19.5455</td></tr><tr><th>12</th><td>14.0</td><td>1.0</td><td>25.0</td><td>-6.0</td><td>0.25</td><td>0.583333</td><td>21.25</td><td>19.0</td></tr><tr><th>13</th><td>15.0</td><td>1.0</td><td>8.0</td><td>14.0</td><td>0.230769</td><td>0.461538</td><td>20.9231</td><td>18.8462</td></tr><tr><th>14</th><td>16.0</td><td>28.0</td><td>1.0</td><td>-14.0</td><td>0.785714</td><td>0.285714</td><td>26.5</td><td>21.5</td></tr><tr><th>15</th><td>17.0</td><td>29.0</td><td>1.0</td><td>7.0</td><td>0.533333</td><td>0.333333</td><td>24.2</td><td>21.1333</td></tr><tr><th>16</th><td>2.0</td><td>2.0</td><td>24.0</td><td>4.0</td><td>0.0</td><td>1.0</td><td>12.0</td><td>27.0</td></tr><tr><th>17</th><td>3.0</td><td>14.0</td><td>2.0</td><td>3.0</td><td>0.5</td><td>0.5</td><td>21.5</td><td>21.5</td></tr><tr><th>18</th><td>4.0</td><td>2.0</td><td>31.0</td><td>-14.0</td><td>0.333333</td><td>0.333333</td><td>20.0</td><td>23.6667</td></tr><tr><th>19</th><td>5.0</td><td>13.0</td><td>2.0</td><td>21.0</td><td>0.5</td><td>0.25</td><td>19.5</td><td>19.25</td></tr><tr><th>20</th><td>6.0</td><td>1.0</td><td>2.0</td><td>1.0</td><td>0.2</td><td>0.2</td><td>20.0</td><td>20.6</td></tr><tr><th>21</th><td>7.0</td><td>2.0</td><td>29.0</td><td>-27.0</td><td>0.166667</td><td>0.5</td><td>22.5</td><td>24.6667</td></tr><tr><th>22</th><td>8.0</td><td>2.0</td><td>28.0</td><td>-7.0</td><td>0.142857</td><td>0.714286</td><td>20.7143</td><td>23.1429</td></tr><tr><th>23</th><td>10.0</td><td>20.0</td><td>2.0</td><td>-17.0</td><td>0.875</td><td>0.125</td><td>24.375</td><td>21.0</td></tr><tr><th>24</th><td>11.0</td><td>5.0</td><td>2.0</td><td>-26.0</td><td>0.555556</td><td>0.222222</td><td>25.0</td><td>20.0</td></tr><tr><th>25</th><td>12.0</td><td>2.0</td><td>30.0</td><td>-13.0</td><td>0.3</td><td>0.3</td><td>22.0</td><td>23.6</td></tr><tr><th>26</th><td>13.0</td><td>2.0</td><td>20.0</td><td>-8.0</td><td>0.272727</td><td>0.818182</td><td>22.0</td><td>23.4545</td></tr><tr><th>27</th><td>14.0</td><td>2.0</td><td>5.0</td><td>20.0</td><td>0.25</td><td>0.416667</td><td>21.6667</td><td>23.75</td></tr><tr><th>28</th><td>15.0</td><td>27.0</td><td>2.0</td><td>-7.0</td><td>0.846154</td><td>0.307692</td><td>30.5385</td><td>21.4615</td></tr><tr><th>29</th><td>16.0</td><td>2.0</td><td>15.0</td><td>12.0</td><td>0.357143</td><td>0.357143</td><td>23.5</td><td>23.3571</td></tr><tr><th>30</th><td>17.0</td><td>30.0</td><td>2.0</td><td>-6.0</td><td>0.466667</td><td>0.4</td><td>29.0667</td><td>22.6</td></tr><tr><th>&vellip;</th><td>&vellip;</td><td>&vellip;</td><td>&vellip;</td><td>&vellip;</td><td>&vellip;</td><td>&vellip;</td><td>&vellip;</td><td>&vellip;</td></tr></tbody></table>"
      ],
      "text/latex": [
       "\\begin{tabular}{r|ccccccccc}\n",
       "\t& Week & Home & Away & PointDif & HomeWin\\% & AwayWin\\% & HomePtsPG & HomeAvg1stDPG & \\\\\n",
       "\t\\hline\n",
       "\t& Float64 & Float64 & Float64 & Float64 & Float64 & Float64 & Float64 & Float64 & \\\\\n",
       "\t\\hline\n",
       "\t1 & 2.0 & 3.0 & 1.0 & 6.0 & 1.0 & 0.0 & 59.0 & 31.0 & $\\dots$ \\\\\n",
       "\t2 & 3.0 & 1.0 & 5.0 & -18.0 & 0.0 & 0.0 & 22.0 & 18.0 & $\\dots$ \\\\\n",
       "\t3 & 4.0 & 1.0 & 28.0 & -17.0 & 0.0 & 0.666667 & 21.3333 & 19.0 & $\\dots$ \\\\\n",
       "\t4 & 5.0 & 7.0 & 1.0 & -3.0 & 0.0 & 0.0 & 14.25 & 17.25 & $\\dots$ \\\\\n",
       "\t5 & 6.0 & 1.0 & 2.0 & 1.0 & 0.2 & 0.2 & 20.0 & 20.6 & $\\dots$ \\\\\n",
       "\t6 & 7.0 & 21.0 & 1.0 & -6.0 & 0.333333 & 0.333333 & 18.5 & 19.1667 & $\\dots$ \\\\\n",
       "\t7 & 8.0 & 20.0 & 1.0 & 22.0 & 0.857143 & 0.428571 & 23.4286 & 20.0 & $\\dots$ \\\\\n",
       "\t8 & 9.0 & 1.0 & 27.0 & -3.0 & 0.375 & 1.0 & 21.25 & 19.375 & $\\dots$ \\\\\n",
       "\t9 & 10.0 & 30.0 & 1.0 & 3.0 & 0.25 & 0.333333 & 28.75 & 22.75 & $\\dots$ \\\\\n",
       "\t10 & 11.0 & 27.0 & 1.0 & 10.0 & 0.888889 & 0.3 & 28.7778 & 21.8889 & $\\dots$ \\\\\n",
       "\t11 & 13.0 & 1.0 & 29.0 & -27.0 & 0.272727 & 0.545455 & 22.5455 & 19.5455 & $\\dots$ \\\\\n",
       "\t12 & 14.0 & 1.0 & 25.0 & -6.0 & 0.25 & 0.583333 & 21.25 & 19.0 & $\\dots$ \\\\\n",
       "\t13 & 15.0 & 1.0 & 8.0 & 14.0 & 0.230769 & 0.461538 & 20.9231 & 18.8462 & $\\dots$ \\\\\n",
       "\t14 & 16.0 & 28.0 & 1.0 & -14.0 & 0.785714 & 0.285714 & 26.5 & 21.5 & $\\dots$ \\\\\n",
       "\t15 & 17.0 & 29.0 & 1.0 & 7.0 & 0.533333 & 0.333333 & 24.2 & 21.1333 & $\\dots$ \\\\\n",
       "\t16 & 2.0 & 2.0 & 24.0 & 4.0 & 0.0 & 1.0 & 12.0 & 27.0 & $\\dots$ \\\\\n",
       "\t17 & 3.0 & 14.0 & 2.0 & 3.0 & 0.5 & 0.5 & 21.5 & 21.5 & $\\dots$ \\\\\n",
       "\t18 & 4.0 & 2.0 & 31.0 & -14.0 & 0.333333 & 0.333333 & 20.0 & 23.6667 & $\\dots$ \\\\\n",
       "\t19 & 5.0 & 13.0 & 2.0 & 21.0 & 0.5 & 0.25 & 19.5 & 19.25 & $\\dots$ \\\\\n",
       "\t20 & 6.0 & 1.0 & 2.0 & 1.0 & 0.2 & 0.2 & 20.0 & 20.6 & $\\dots$ \\\\\n",
       "\t21 & 7.0 & 2.0 & 29.0 & -27.0 & 0.166667 & 0.5 & 22.5 & 24.6667 & $\\dots$ \\\\\n",
       "\t22 & 8.0 & 2.0 & 28.0 & -7.0 & 0.142857 & 0.714286 & 20.7143 & 23.1429 & $\\dots$ \\\\\n",
       "\t23 & 10.0 & 20.0 & 2.0 & -17.0 & 0.875 & 0.125 & 24.375 & 21.0 & $\\dots$ \\\\\n",
       "\t24 & 11.0 & 5.0 & 2.0 & -26.0 & 0.555556 & 0.222222 & 25.0 & 20.0 & $\\dots$ \\\\\n",
       "\t25 & 12.0 & 2.0 & 30.0 & -13.0 & 0.3 & 0.3 & 22.0 & 23.6 & $\\dots$ \\\\\n",
       "\t26 & 13.0 & 2.0 & 20.0 & -8.0 & 0.272727 & 0.818182 & 22.0 & 23.4545 & $\\dots$ \\\\\n",
       "\t27 & 14.0 & 2.0 & 5.0 & 20.0 & 0.25 & 0.416667 & 21.6667 & 23.75 & $\\dots$ \\\\\n",
       "\t28 & 15.0 & 27.0 & 2.0 & -7.0 & 0.846154 & 0.307692 & 30.5385 & 21.4615 & $\\dots$ \\\\\n",
       "\t29 & 16.0 & 2.0 & 15.0 & 12.0 & 0.357143 & 0.357143 & 23.5 & 23.3571 & $\\dots$ \\\\\n",
       "\t30 & 17.0 & 30.0 & 2.0 & -6.0 & 0.466667 & 0.4 & 29.0667 & 22.6 & $\\dots$ \\\\\n",
       "\t$\\dots$ & $\\dots$ & $\\dots$ & $\\dots$ & $\\dots$ & $\\dots$ & $\\dots$ & $\\dots$ & $\\dots$ &  \\\\\n",
       "\\end{tabular}\n"
      ],
      "text/plain": [
       "480×26 DataFrame. Omitted printing of 20 columns\n",
       "│ Row │ Week    │ Home    │ Away    │ PointDif │ HomeWin% │ AwayWin% │\n",
       "│     │ \u001b[90mFloat64\u001b[39m │ \u001b[90mFloat64\u001b[39m │ \u001b[90mFloat64\u001b[39m │ \u001b[90mFloat64\u001b[39m  │ \u001b[90mFloat64\u001b[39m  │ \u001b[90mFloat64\u001b[39m  │\n",
       "├─────┼─────────┼─────────┼─────────┼──────────┼──────────┼──────────┤\n",
       "│ 1   │ 2.0     │ 3.0     │ 1.0     │ 6.0      │ 1.0      │ 0.0      │\n",
       "│ 2   │ 3.0     │ 1.0     │ 5.0     │ -18.0    │ 0.0      │ 0.0      │\n",
       "│ 3   │ 4.0     │ 1.0     │ 28.0    │ -17.0    │ 0.0      │ 0.666667 │\n",
       "│ 4   │ 5.0     │ 7.0     │ 1.0     │ -3.0     │ 0.0      │ 0.0      │\n",
       "│ 5   │ 6.0     │ 1.0     │ 2.0     │ 1.0      │ 0.2      │ 0.2      │\n",
       "│ 6   │ 7.0     │ 21.0    │ 1.0     │ -6.0     │ 0.333333 │ 0.333333 │\n",
       "│ 7   │ 8.0     │ 20.0    │ 1.0     │ 22.0     │ 0.857143 │ 0.428571 │\n",
       "│ 8   │ 9.0     │ 1.0     │ 27.0    │ -3.0     │ 0.375    │ 1.0      │\n",
       "│ 9   │ 10.0    │ 30.0    │ 1.0     │ 3.0      │ 0.25     │ 0.333333 │\n",
       "│ 10  │ 11.0    │ 27.0    │ 1.0     │ 10.0     │ 0.888889 │ 0.3      │\n",
       "⋮\n",
       "│ 470 │ 6.0     │ 17.0    │ 32.0    │ -1.0     │ 0.0      │ 0.0      │\n",
       "│ 471 │ 7.0     │ 32.0    │ 27.0    │ -9.0     │ 0.166667 │ 1.0      │\n",
       "│ 472 │ 8.0     │ 18.0    │ 32.0    │ 10.0     │ 0.714286 │ 0.142857 │\n",
       "│ 473 │ 9.0     │ 4.0     │ 32.0    │ 15.0     │ 0.714286 │ 0.125    │\n",
       "│ 474 │ 11.0    │ 32.0    │ 22.0    │ -17.0    │ 0.111111 │ 0.222222 │\n",
       "│ 475 │ 12.0    │ 32.0    │ 11.0    │ 3.0      │ 0.1      │ 0.3      │\n",
       "│ 476 │ 13.0    │ 5.0     │ 32.0    │ -8.0     │ 0.454545 │ 0.181818 │\n",
       "│ 477 │ 14.0    │ 12.0    │ 32.0    │ 5.0      │ 0.75     │ 0.25     │\n",
       "│ 478 │ 15.0    │ 32.0    │ 24.0    │ -10.0    │ 0.230769 │ 0.461538 │\n",
       "│ 479 │ 16.0    │ 32.0    │ 21.0    │ -6.0     │ 0.214286 │ 0.214286 │\n",
       "│ 480 │ 17.0    │ 9.0     │ 32.0    │ 31.0     │ 0.466667 │ 0.2      │"
      ]
     },
     "execution_count": 334,
     "metadata": {},
     "output_type": "execute_result"
    }
   ],
   "source": [
    "n = size(final)[1]\n",
    "\n",
    "predict = DataFrame()\n",
    "\n",
    "cn = [\"Week\", \"Home\", \"Away\", \"PointDif\", \"HomeWin%\", \"AwayWin%\", \"HomePtsPG\", \"HomeAvg1stDPG\", \"HomeRushPG\",\n",
    "    \"HomePassPG\", \"HomeTurnoversPG\", \"HomePtsAllowedPG\", \"HomeAvg1stDAllowedPG\", \"HomeRushAllowedPG\", \n",
    "    \"HomePassAllowedPG\", \"HomeTurnoversAllowedPG\", \"AwayPtsPG\", \"AwayAvg1stDPG\", \"AwayRushPG\", \"AwayPassPG\",\n",
    "    \"AwayTurnoversPG\", \"AwayPtsAllowedPG\", \"AwayAvg1stDAllowedPG\", \"AwayRushAllowedPG\", \n",
    "    \"AwayPassAllowedPG\", \"AwayTurnoversAllowedPG\"]\n",
    "\n",
    "for c in cn\n",
    "    predict[Symbol(c)] = 0.0\n",
    "end\n",
    "\n",
    "final_home_only = filter(row -> row[:isHome] == \"1\", final);\n",
    "for i in 1:n \n",
    "    #determines which team is home\n",
    "    mult = 1\n",
    "    if final[i,:][:isHome] == \"0\"\n",
    "        mult = -1\n",
    "        awayID = final[i,:][:Team]\n",
    "        homeID = final[i,:][:Opponent]\n",
    "    else\n",
    "        homeID = final[i,:][:Team]\n",
    "        awayID = final[i,:][:Opponent]\n",
    "    end\n",
    "\n",
    "    ptsdif = mult*(final[i,:][:Tm] - final[i,:][:Opp_1])\n",
    "\n",
    "    week = final[i,:][:Week]\n",
    "    if week == 1\n",
    "        continue\n",
    "    end\n",
    "\n",
    "    teamID = final[i,:][:Team]\n",
    "    oppID = final[i,:][:Opponent]\n",
    "\n",
    "    homeData = filter(row -> row[:Team] == homeID, final);\n",
    "    homeData = filter(row -> row[:Week] in 1:(week-1), homeData);\n",
    "    awayData = filter(row -> row[:Team] == awayID, final);\n",
    "    awayData = filter(row -> row[:Week] in 1:(week-1), awayData);\n",
    "\n",
    "    wins = sign.(homeData[:,:Tm] .- homeData[:,:Opp_1])\n",
    "    wins[wins .== -1] .= 0\n",
    "    homeWinPercent = mean(wins)\n",
    "\n",
    "    awins = sign.(awayData[:,:Tm] .- awayData[:,:Opp_1])\n",
    "    awins[awins .== -1] .= 0\n",
    "    awayWinPercent = mean(awins)\n",
    "\n",
    "    homePPG = mean(homeData[:Tm])\n",
    "    awayPPG = mean(awayData[:Tm])\n",
    "\n",
    "    home1stD = mean(homeData[Symbol(\"1stD\")])\n",
    "    away1stD = mean(awayData[Symbol(\"1stD\")])\n",
    "\n",
    "    homeRushPG = mean(homeData[:RushY])\n",
    "    awayRushPG = mean(awayData[:RushY])\n",
    "\n",
    "    homePassPG = mean(homeData[:PassY])\n",
    "    awayPassPG = mean(awayData[:PassY])\n",
    "\n",
    "    homeTOPG = mean(homeData[:TO])\n",
    "    awayTOPG = mean(awayData[:TO])\n",
    "\n",
    "    homePPGAllowed = mean(homeData[:Opp_1])\n",
    "    awayPPGAllowed = mean(awayData[:Opp_1])\n",
    "\n",
    "    home1stDAllowed = mean(homeData[Symbol(\"1stD_1\")])\n",
    "    away1stDAllowed = mean(awayData[Symbol(\"1stD_1\")])\n",
    "\n",
    "    homeRushPGAllowed = mean(homeData[:RushY_1])\n",
    "    awayRushPGAllowed = mean(awayData[:RushY_1])\n",
    "\n",
    "    homePassPGAllowed = mean(homeData[:PassY_1])\n",
    "    awayPassPGAllowed = mean(awayData[:PassY_1])\n",
    "\n",
    "    homeTakeawaysPG = mean(homeData[:TO_1])\n",
    "    awayTakeawaysPG = mean(awayData[:TO_1])\n",
    "    \n",
    "    push!(predict, (week, homeID, awayID, ptsdif, homeWinPercent, awayWinPercent, homePPG, home1stD, homeRushPG,\n",
    "            homePassPG, homeTOPG, homePPGAllowed, home1stDAllowed, homeRushPGAllowed, homePassPGAllowed,\n",
    "            homeTakeawaysPG, awayPPG, away1stD, awayRushPG, awayPassPG, awayTOPG, awayPPGAllowed,\n",
    "            away1stDAllowed, awayRushPGAllowed, awayPassPGAllowed, awayTakeawaysPG))\n",
    "end\n",
    "predict = predict[2:end,:]"
   ]
  },
  {
   "cell_type": "code",
   "execution_count": 336,
   "metadata": {},
   "outputs": [
    {
     "data": {
      "text/html": [
       "<table class=\"data-frame\"><thead><tr><th></th><th>Week</th><th>Home</th><th>Away</th><th>PointDif</th><th>HomeWin%</th><th>AwayWin%</th><th>HomePtsPG</th><th>HomeAvg1stDPG</th></tr><tr><th></th><th>Float64</th><th>Float64</th><th>Float64</th><th>Float64</th><th>Float64</th><th>Float64</th><th>Float64</th><th>Float64</th></tr></thead><tbody><p>240 rows × 26 columns (omitted printing of 18 columns)</p><tr><th>1</th><td>3.0</td><td>1.0</td><td>5.0</td><td>-18.0</td><td>0.0</td><td>0.0</td><td>22.0</td><td>18.0</td></tr><tr><th>2</th><td>4.0</td><td>1.0</td><td>28.0</td><td>-17.0</td><td>0.0</td><td>0.666667</td><td>21.3333</td><td>19.0</td></tr><tr><th>3</th><td>6.0</td><td>1.0</td><td>2.0</td><td>1.0</td><td>0.2</td><td>0.2</td><td>20.0</td><td>20.6</td></tr><tr><th>4</th><td>9.0</td><td>1.0</td><td>27.0</td><td>-3.0</td><td>0.375</td><td>1.0</td><td>21.25</td><td>19.375</td></tr><tr><th>5</th><td>13.0</td><td>1.0</td><td>29.0</td><td>-27.0</td><td>0.272727</td><td>0.545455</td><td>22.5455</td><td>19.5455</td></tr><tr><th>6</th><td>14.0</td><td>1.0</td><td>25.0</td><td>-6.0</td><td>0.25</td><td>0.583333</td><td>21.25</td><td>19.0</td></tr><tr><th>7</th><td>15.0</td><td>1.0</td><td>8.0</td><td>14.0</td><td>0.230769</td><td>0.461538</td><td>20.9231</td><td>18.8462</td></tr><tr><th>8</th><td>2.0</td><td>2.0</td><td>24.0</td><td>4.0</td><td>0.0</td><td>1.0</td><td>12.0</td><td>27.0</td></tr><tr><th>9</th><td>4.0</td><td>2.0</td><td>31.0</td><td>-14.0</td><td>0.333333</td><td>0.333333</td><td>20.0</td><td>23.6667</td></tr><tr><th>10</th><td>7.0</td><td>2.0</td><td>29.0</td><td>-27.0</td><td>0.166667</td><td>0.5</td><td>22.5</td><td>24.6667</td></tr><tr><th>11</th><td>8.0</td><td>2.0</td><td>28.0</td><td>-7.0</td><td>0.142857</td><td>0.714286</td><td>20.7143</td><td>23.1429</td></tr><tr><th>12</th><td>12.0</td><td>2.0</td><td>30.0</td><td>-13.0</td><td>0.3</td><td>0.3</td><td>22.0</td><td>23.6</td></tr><tr><th>13</th><td>13.0</td><td>2.0</td><td>20.0</td><td>-8.0</td><td>0.272727</td><td>0.818182</td><td>22.0</td><td>23.4545</td></tr><tr><th>14</th><td>14.0</td><td>2.0</td><td>5.0</td><td>20.0</td><td>0.25</td><td>0.416667</td><td>21.6667</td><td>23.75</td></tr><tr><th>15</th><td>16.0</td><td>2.0</td><td>15.0</td><td>12.0</td><td>0.357143</td><td>0.357143</td><td>23.5</td><td>23.3571</td></tr><tr><th>16</th><td>2.0</td><td>3.0</td><td>1.0</td><td>6.0</td><td>1.0</td><td>0.0</td><td>59.0</td><td>31.0</td></tr><tr><th>17</th><td>4.0</td><td>3.0</td><td>8.0</td><td>-15.0</td><td>0.666667</td><td>0.333333</td><td>36.6667</td><td>28.6667</td></tr><tr><th>18</th><td>6.0</td><td>3.0</td><td>7.0</td><td>6.0</td><td>0.6</td><td>0.0</td><td>32.2</td><td>26.4</td></tr><tr><th>19</th><td>9.0</td><td>3.0</td><td>19.0</td><td>17.0</td><td>0.714286</td><td>1.0</td><td>30.5714</td><td>24.5714</td></tr><tr><th>20</th><td>11.0</td><td>3.0</td><td>13.0</td><td>34.0</td><td>0.777778</td><td>0.666667</td><td>33.3333</td><td>24.2222</td></tr><tr><th>21</th><td>13.0</td><td>3.0</td><td>27.0</td><td>3.0</td><td>0.818182</td><td>0.909091</td><td>35.0909</td><td>24.9091</td></tr><tr><th>22</th><td>15.0</td><td>3.0</td><td>22.0</td><td>21.0</td><td>0.846154</td><td>0.384615</td><td>33.0769</td><td>24.0769</td></tr><tr><th>23</th><td>17.0</td><td>3.0</td><td>25.0</td><td>18.0</td><td>0.866667</td><td>0.533333</td><td>33.5333</td><td>24.4667</td></tr><tr><th>24</th><td>3.0</td><td>4.0</td><td>7.0</td><td>4.0</td><td>1.0</td><td>0.0</td><td>22.5</td><td>23.5</td></tr><tr><th>25</th><td>4.0</td><td>4.0</td><td>19.0</td><td>-6.0</td><td>1.0</td><td>1.0</td><td>22.0</td><td>24.0</td></tr><tr><th>26</th><td>7.0</td><td>4.0</td><td>17.0</td><td>10.0</td><td>0.8</td><td>0.0</td><td>18.0</td><td>22.6</td></tr><tr><th>27</th><td>8.0</td><td>4.0</td><td>24.0</td><td>-18.0</td><td>0.833333</td><td>0.428571</td><td>20.1667</td><td>21.6667</td></tr><tr><th>28</th><td>9.0</td><td>4.0</td><td>32.0</td><td>15.0</td><td>0.714286</td><td>0.125</td><td>19.1429</td><td>20.8571</td></tr><tr><th>29</th><td>12.0</td><td>4.0</td><td>10.0</td><td>17.0</td><td>0.7</td><td>0.3</td><td>21.1</td><td>20.6</td></tr><tr><th>30</th><td>14.0</td><td>4.0</td><td>3.0</td><td>-7.0</td><td>0.75</td><td>0.833333</td><td>21.4167</td><td>20.8333</td></tr><tr><th>&vellip;</th><td>&vellip;</td><td>&vellip;</td><td>&vellip;</td><td>&vellip;</td><td>&vellip;</td><td>&vellip;</td><td>&vellip;</td><td>&vellip;</td></tr></tbody></table>"
      ],
      "text/latex": [
       "\\begin{tabular}{r|ccccccccc}\n",
       "\t& Week & Home & Away & PointDif & HomeWin\\% & AwayWin\\% & HomePtsPG & HomeAvg1stDPG & \\\\\n",
       "\t\\hline\n",
       "\t& Float64 & Float64 & Float64 & Float64 & Float64 & Float64 & Float64 & Float64 & \\\\\n",
       "\t\\hline\n",
       "\t1 & 3.0 & 1.0 & 5.0 & -18.0 & 0.0 & 0.0 & 22.0 & 18.0 & $\\dots$ \\\\\n",
       "\t2 & 4.0 & 1.0 & 28.0 & -17.0 & 0.0 & 0.666667 & 21.3333 & 19.0 & $\\dots$ \\\\\n",
       "\t3 & 6.0 & 1.0 & 2.0 & 1.0 & 0.2 & 0.2 & 20.0 & 20.6 & $\\dots$ \\\\\n",
       "\t4 & 9.0 & 1.0 & 27.0 & -3.0 & 0.375 & 1.0 & 21.25 & 19.375 & $\\dots$ \\\\\n",
       "\t5 & 13.0 & 1.0 & 29.0 & -27.0 & 0.272727 & 0.545455 & 22.5455 & 19.5455 & $\\dots$ \\\\\n",
       "\t6 & 14.0 & 1.0 & 25.0 & -6.0 & 0.25 & 0.583333 & 21.25 & 19.0 & $\\dots$ \\\\\n",
       "\t7 & 15.0 & 1.0 & 8.0 & 14.0 & 0.230769 & 0.461538 & 20.9231 & 18.8462 & $\\dots$ \\\\\n",
       "\t8 & 2.0 & 2.0 & 24.0 & 4.0 & 0.0 & 1.0 & 12.0 & 27.0 & $\\dots$ \\\\\n",
       "\t9 & 4.0 & 2.0 & 31.0 & -14.0 & 0.333333 & 0.333333 & 20.0 & 23.6667 & $\\dots$ \\\\\n",
       "\t10 & 7.0 & 2.0 & 29.0 & -27.0 & 0.166667 & 0.5 & 22.5 & 24.6667 & $\\dots$ \\\\\n",
       "\t11 & 8.0 & 2.0 & 28.0 & -7.0 & 0.142857 & 0.714286 & 20.7143 & 23.1429 & $\\dots$ \\\\\n",
       "\t12 & 12.0 & 2.0 & 30.0 & -13.0 & 0.3 & 0.3 & 22.0 & 23.6 & $\\dots$ \\\\\n",
       "\t13 & 13.0 & 2.0 & 20.0 & -8.0 & 0.272727 & 0.818182 & 22.0 & 23.4545 & $\\dots$ \\\\\n",
       "\t14 & 14.0 & 2.0 & 5.0 & 20.0 & 0.25 & 0.416667 & 21.6667 & 23.75 & $\\dots$ \\\\\n",
       "\t15 & 16.0 & 2.0 & 15.0 & 12.0 & 0.357143 & 0.357143 & 23.5 & 23.3571 & $\\dots$ \\\\\n",
       "\t16 & 2.0 & 3.0 & 1.0 & 6.0 & 1.0 & 0.0 & 59.0 & 31.0 & $\\dots$ \\\\\n",
       "\t17 & 4.0 & 3.0 & 8.0 & -15.0 & 0.666667 & 0.333333 & 36.6667 & 28.6667 & $\\dots$ \\\\\n",
       "\t18 & 6.0 & 3.0 & 7.0 & 6.0 & 0.6 & 0.0 & 32.2 & 26.4 & $\\dots$ \\\\\n",
       "\t19 & 9.0 & 3.0 & 19.0 & 17.0 & 0.714286 & 1.0 & 30.5714 & 24.5714 & $\\dots$ \\\\\n",
       "\t20 & 11.0 & 3.0 & 13.0 & 34.0 & 0.777778 & 0.666667 & 33.3333 & 24.2222 & $\\dots$ \\\\\n",
       "\t21 & 13.0 & 3.0 & 27.0 & 3.0 & 0.818182 & 0.909091 & 35.0909 & 24.9091 & $\\dots$ \\\\\n",
       "\t22 & 15.0 & 3.0 & 22.0 & 21.0 & 0.846154 & 0.384615 & 33.0769 & 24.0769 & $\\dots$ \\\\\n",
       "\t23 & 17.0 & 3.0 & 25.0 & 18.0 & 0.866667 & 0.533333 & 33.5333 & 24.4667 & $\\dots$ \\\\\n",
       "\t24 & 3.0 & 4.0 & 7.0 & 4.0 & 1.0 & 0.0 & 22.5 & 23.5 & $\\dots$ \\\\\n",
       "\t25 & 4.0 & 4.0 & 19.0 & -6.0 & 1.0 & 1.0 & 22.0 & 24.0 & $\\dots$ \\\\\n",
       "\t26 & 7.0 & 4.0 & 17.0 & 10.0 & 0.8 & 0.0 & 18.0 & 22.6 & $\\dots$ \\\\\n",
       "\t27 & 8.0 & 4.0 & 24.0 & -18.0 & 0.833333 & 0.428571 & 20.1667 & 21.6667 & $\\dots$ \\\\\n",
       "\t28 & 9.0 & 4.0 & 32.0 & 15.0 & 0.714286 & 0.125 & 19.1429 & 20.8571 & $\\dots$ \\\\\n",
       "\t29 & 12.0 & 4.0 & 10.0 & 17.0 & 0.7 & 0.3 & 21.1 & 20.6 & $\\dots$ \\\\\n",
       "\t30 & 14.0 & 4.0 & 3.0 & -7.0 & 0.75 & 0.833333 & 21.4167 & 20.8333 & $\\dots$ \\\\\n",
       "\t$\\dots$ & $\\dots$ & $\\dots$ & $\\dots$ & $\\dots$ & $\\dots$ & $\\dots$ & $\\dots$ & $\\dots$ &  \\\\\n",
       "\\end{tabular}\n"
      ],
      "text/plain": [
       "240×26 DataFrame. Omitted printing of 20 columns\n",
       "│ Row │ Week    │ Home    │ Away    │ PointDif │ HomeWin% │ AwayWin% │\n",
       "│     │ \u001b[90mFloat64\u001b[39m │ \u001b[90mFloat64\u001b[39m │ \u001b[90mFloat64\u001b[39m │ \u001b[90mFloat64\u001b[39m  │ \u001b[90mFloat64\u001b[39m  │ \u001b[90mFloat64\u001b[39m  │\n",
       "├─────┼─────────┼─────────┼─────────┼──────────┼──────────┼──────────┤\n",
       "│ 1   │ 3.0     │ 1.0     │ 5.0     │ -18.0    │ 0.0      │ 0.0      │\n",
       "│ 2   │ 4.0     │ 1.0     │ 28.0    │ -17.0    │ 0.0      │ 0.666667 │\n",
       "│ 3   │ 6.0     │ 1.0     │ 2.0     │ 1.0      │ 0.2      │ 0.2      │\n",
       "│ 4   │ 9.0     │ 1.0     │ 27.0    │ -3.0     │ 0.375    │ 1.0      │\n",
       "│ 5   │ 13.0    │ 1.0     │ 29.0    │ -27.0    │ 0.272727 │ 0.545455 │\n",
       "│ 6   │ 14.0    │ 1.0     │ 25.0    │ -6.0     │ 0.25     │ 0.583333 │\n",
       "│ 7   │ 15.0    │ 1.0     │ 8.0     │ 14.0     │ 0.230769 │ 0.461538 │\n",
       "│ 8   │ 2.0     │ 2.0     │ 24.0    │ 4.0      │ 0.0      │ 1.0      │\n",
       "│ 9   │ 4.0     │ 2.0     │ 31.0    │ -14.0    │ 0.333333 │ 0.333333 │\n",
       "│ 10  │ 7.0     │ 2.0     │ 29.0    │ -27.0    │ 0.166667 │ 0.5      │\n",
       "⋮\n",
       "│ 230 │ 12.0    │ 31.0    │ 15.0    │ 22.0     │ 0.5      │ 0.4      │\n",
       "│ 231 │ 15.0    │ 31.0    │ 13.0    │ -3.0     │ 0.615385 │ 0.615385 │\n",
       "│ 232 │ 16.0    │ 31.0    │ 20.0    │ -10.0    │ 0.571429 │ 0.785714 │\n",
       "│ 233 │ 2.0     │ 32.0    │ 9.0     │ -10.0    │ 0.0      │ 1.0      │\n",
       "│ 234 │ 3.0     │ 32.0    │ 6.0     │ -16.0    │ 0.0      │ 0.5      │\n",
       "│ 235 │ 5.0     │ 32.0    │ 19.0    │ -26.0    │ 0.0      │ 1.0      │\n",
       "│ 236 │ 7.0     │ 32.0    │ 27.0    │ -9.0     │ 0.166667 │ 1.0      │\n",
       "│ 237 │ 11.0    │ 32.0    │ 22.0    │ -17.0    │ 0.111111 │ 0.222222 │\n",
       "│ 238 │ 12.0    │ 32.0    │ 11.0    │ 3.0      │ 0.1      │ 0.3      │\n",
       "│ 239 │ 15.0    │ 32.0    │ 24.0    │ -10.0    │ 0.230769 │ 0.461538 │\n",
       "│ 240 │ 16.0    │ 32.0    │ 21.0    │ -6.0     │ 0.214286 │ 0.214286 │"
      ]
     },
     "execution_count": 336,
     "metadata": {},
     "output_type": "execute_result"
    }
   ],
   "source": [
    "predict = DataFrame()\n",
    "\n",
    "cn = [\"Week\", \"Home\", \"Away\", \"PointDif\", \"HomeWin%\", \"AwayWin%\", \"HomePtsPG\", \"HomeAvg1stDPG\", \"HomeRushPG\",\n",
    "    \"HomePassPG\", \"HomeTurnoversPG\", \"HomePtsAllowedPG\", \"HomeAvg1stDAllowedPG\", \"HomeRushAllowedPG\", \n",
    "    \"HomePassAllowedPG\", \"HomeTurnoversAllowedPG\", \"AwayPtsPG\", \"AwayAvg1stDPG\", \"AwayRushPG\", \"AwayPassPG\",\n",
    "    \"AwayTurnoversPG\", \"AwayPtsAllowedPG\", \"AwayAvg1stDAllowedPG\", \"AwayRushAllowedPG\", \n",
    "    \"AwayPassAllowedPG\", \"AwayTurnoversAllowedPG\"]\n",
    "\n",
    "for c in cn\n",
    "    predict[Symbol(c)] = 0.0\n",
    "end\n",
    "\n",
    "#avoids duplicates\n",
    "final_home_only = filter(row -> row[:isHome] == \"1\", final)\n",
    "n = size(final_home_only)[1]\n",
    "\n",
    "for i in 1:n \n",
    "    #determines which team is home\n",
    "    mult = 1\n",
    "    if final_home_only[i,:][:isHome] == \"0\"\n",
    "        mult = -1\n",
    "        awayID = final_home_only[i,:][:Team]\n",
    "        homeID = final_home_only[i,:][:Opponent]\n",
    "    else\n",
    "        homeID = final_home_only[i,:][:Team]\n",
    "        awayID = final_home_only[i,:][:Opponent]\n",
    "    end\n",
    "\n",
    "    ptsdif = mult*(final_home_only[i,:][:Tm] - final_home_only[i,:][:Opp_1])\n",
    "\n",
    "    week = final_home_only[i,:][:Week]\n",
    "    if week == 1\n",
    "        continue\n",
    "    end\n",
    "\n",
    "    homeData = filter(row -> row[:Team] == homeID, final);\n",
    "    homeData = filter(row -> row[:Week] in 1:(week-1), homeData);\n",
    "    awayData = filter(row -> row[:Team] == awayID, final);\n",
    "    awayData = filter(row -> row[:Week] in 1:(week-1), awayData);\n",
    "\n",
    "    wins = sign.(homeData[:,:Tm] .- homeData[:,:Opp_1])\n",
    "    wins[wins .== -1] .= 0\n",
    "    homeWinPercent = mean(wins)\n",
    "\n",
    "    awins = sign.(awayData[:,:Tm] .- awayData[:,:Opp_1])\n",
    "    awins[awins .== -1] .= 0\n",
    "    awayWinPercent = mean(awins)\n",
    "\n",
    "    homePPG = mean(homeData[:Tm])\n",
    "    awayPPG = mean(awayData[:Tm])\n",
    "\n",
    "    home1stD = mean(homeData[Symbol(\"1stD\")])\n",
    "    away1stD = mean(awayData[Symbol(\"1stD\")])\n",
    "\n",
    "    homeRushPG = mean(homeData[:RushY])\n",
    "    awayRushPG = mean(awayData[:RushY])\n",
    "\n",
    "    homePassPG = mean(homeData[:PassY])\n",
    "    awayPassPG = mean(awayData[:PassY])\n",
    "\n",
    "    homeTOPG = mean(homeData[:TO])\n",
    "    awayTOPG = mean(awayData[:TO])\n",
    "\n",
    "    homePPGAllowed = mean(homeData[:Opp_1])\n",
    "    awayPPGAllowed = mean(awayData[:Opp_1])\n",
    "\n",
    "    home1stDAllowed = mean(homeData[Symbol(\"1stD_1\")])\n",
    "    away1stDAllowed = mean(awayData[Symbol(\"1stD_1\")])\n",
    "\n",
    "    homeRushPGAllowed = mean(homeData[:RushY_1])\n",
    "    awayRushPGAllowed = mean(awayData[:RushY_1])\n",
    "\n",
    "    homePassPGAllowed = mean(homeData[:PassY_1])\n",
    "    awayPassPGAllowed = mean(awayData[:PassY_1])\n",
    "\n",
    "    homeTakeawaysPG = mean(homeData[:TO_1])\n",
    "    awayTakeawaysPG = mean(awayData[:TO_1])\n",
    "    \n",
    "    push!(predict, (week, homeID, awayID, ptsdif, homeWinPercent, awayWinPercent, homePPG, home1stD, homeRushPG,\n",
    "            homePassPG, homeTOPG, homePPGAllowed, home1stDAllowed, homeRushPGAllowed, homePassPGAllowed,\n",
    "            homeTakeawaysPG, awayPPG, away1stD, awayRushPG, awayPassPG, awayTOPG, awayPPGAllowed,\n",
    "            away1stDAllowed, awayRushPGAllowed, awayPassPGAllowed, awayTakeawaysPG))\n",
    "end\n",
    "predict = predict[2:end,:]"
   ]
  },
  {
   "cell_type": "code",
   "execution_count": 358,
   "metadata": {},
   "outputs": [
    {
     "data": {
      "text/html": [
       "<table class=\"data-frame\"><thead><tr><th></th><th>Week</th><th>Home</th><th>Away</th><th>PointDif</th><th>HomeWin%</th><th>AwayWin%</th><th>HomePtsPG</th><th>HomeAvg1stDPG</th></tr><tr><th></th><th>Float64</th><th>Float64</th><th>Float64</th><th>Float64</th><th>Float64</th><th>Float64</th><th>Float64</th><th>Float64</th></tr></thead><tbody><p>40 rows × 26 columns (omitted printing of 18 columns)</p><tr><th>1</th><td>15.0</td><td>27.0</td><td>2.0</td><td>-7.0</td><td>0.846154</td><td>0.307692</td><td>30.5385</td><td>21.4615</td></tr><tr><th>2</th><td>16.0</td><td>27.0</td><td>29.0</td><td>3.0</td><td>0.785714</td><td>0.571429</td><td>29.9286</td><td>21.3571</td></tr><tr><th>3</th><td>3.0</td><td>28.0</td><td>20.0</td><td>-6.0</td><td>1.0</td><td>0.5</td><td>24.5</td><td>18.5</td></tr><tr><th>4</th><td>5.0</td><td>28.0</td><td>29.0</td><td>1.0</td><td>0.75</td><td>0.75</td><td>25.75</td><td>21.0</td></tr><tr><th>5</th><td>7.0</td><td>28.0</td><td>3.0</td><td>-14.0</td><td>0.833333</td><td>0.666667</td><td>27.5</td><td>23.0</td></tr><tr><th>6</th><td>9.0</td><td>28.0</td><td>30.0</td><td>6.0</td><td>0.75</td><td>0.285714</td><td>26.0</td><td>22.0</td></tr><tr><th>7</th><td>13.0</td><td>28.0</td><td>18.0</td><td>7.0</td><td>0.818182</td><td>0.727273</td><td>26.5455</td><td>21.8182</td></tr><tr><th>8</th><td>16.0</td><td>28.0</td><td>1.0</td><td>-14.0</td><td>0.785714</td><td>0.285714</td><td>26.5</td><td>21.5</td></tr><tr><th>9</th><td>17.0</td><td>28.0</td><td>27.0</td><td>-5.0</td><td>0.733333</td><td>0.8</td><td>25.6</td><td>20.9333</td></tr><tr><th>10</th><td>2.0</td><td>29.0</td><td>20.0</td><td>18.0</td><td>1.0</td><td>1.0</td><td>30.0</td><td>22.0</td></tr><tr><th>11</th><td>4.0</td><td>29.0</td><td>30.0</td><td>-15.0</td><td>1.0</td><td>0.333333</td><td>25.6667</td><td>20.6667</td></tr><tr><th>12</th><td>6.0</td><td>29.0</td><td>27.0</td><td>-13.0</td><td>0.6</td><td>1.0</td><td>29.2</td><td>24.4</td></tr><tr><th>13</th><td>8.0</td><td>29.0</td><td>7.0</td><td>14.0</td><td>0.571429</td><td>0.0</td><td>27.1429</td><td>22.1429</td></tr><tr><th>14</th><td>11.0</td><td>29.0</td><td>6.0</td><td>10.0</td><td>0.555556</td><td>0.444444</td><td>25.1111</td><td>21.1111</td></tr><tr><th>15</th><td>12.0</td><td>29.0</td><td>3.0</td><td>-39.0</td><td>0.6</td><td>0.8</td><td>24.3</td><td>20.3</td></tr><tr><th>16</th><td>14.0</td><td>29.0</td><td>28.0</td><td>16.0</td><td>0.583333</td><td>0.833333</td><td>23.5833</td><td>20.3333</td></tr><tr><th>17</th><td>17.0</td><td>29.0</td><td>1.0</td><td>7.0</td><td>0.533333</td><td>0.333333</td><td>24.2</td><td>21.1333</td></tr><tr><th>18</th><td>3.0</td><td>30.0</td><td>21.0</td><td>-1.0</td><td>0.5</td><td>0.0</td><td>18.5</td><td>18.5</td></tr><tr><th>19</th><td>6.0</td><td>30.0</td><td>5.0</td><td>-11.0</td><td>0.4</td><td>0.6</td><td>29.4</td><td>21.4</td></tr><tr><th>20</th><td>10.0</td><td>30.0</td><td>1.0</td><td>3.0</td><td>0.25</td><td>0.333333</td><td>28.75</td><td>22.75</td></tr><tr><th>21</th><td>11.0</td><td>30.0</td><td>20.0</td><td>-17.0</td><td>0.333333</td><td>0.777778</td><td>28.8889</td><td>23.1111</td></tr><tr><th>22</th><td>14.0</td><td>30.0</td><td>14.0</td><td>3.0</td><td>0.416667</td><td>0.5</td><td>28.3333</td><td>22.3333</td></tr><tr><th>23</th><td>16.0</td><td>30.0</td><td>13.0</td><td>-3.0</td><td>0.5</td><td>0.642857</td><td>29.7143</td><td>22.8571</td></tr><tr><th>24</th><td>17.0</td><td>30.0</td><td>2.0</td><td>-6.0</td><td>0.466667</td><td>0.4</td><td>29.0667</td><td>22.6</td></tr><tr><th>25</th><td>2.0</td><td>31.0</td><td>14.0</td><td>-2.0</td><td>1.0</td><td>0.0</td><td>43.0</td><td>21.0</td></tr><tr><th>26</th><td>5.0</td><td>31.0</td><td>4.0</td><td>-7.0</td><td>0.5</td><td>0.75</td><td>22.75</td><td>20.5</td></tr><tr><th>27</th><td>7.0</td><td>31.0</td><td>26.0</td><td>3.0</td><td>0.333333</td><td>0.333333</td><td>16.3333</td><td>18.0</td></tr><tr><th>28</th><td>8.0</td><td>31.0</td><td>30.0</td><td>4.0</td><td>0.428571</td><td>0.333333</td><td>17.2857</td><td>18.5714</td></tr><tr><th>29</th><td>10.0</td><td>31.0</td><td>16.0</td><td>3.0</td><td>0.444444</td><td>0.666667</td><td>18.6667</td><td>18.8889</td></tr><tr><th>30</th><td>12.0</td><td>31.0</td><td>15.0</td><td>22.0</td><td>0.5</td><td>0.4</td><td>20.3</td><td>18.9</td></tr><tr><th>&vellip;</th><td>&vellip;</td><td>&vellip;</td><td>&vellip;</td><td>&vellip;</td><td>&vellip;</td><td>&vellip;</td><td>&vellip;</td><td>&vellip;</td></tr></tbody></table>"
      ],
      "text/latex": [
       "\\begin{tabular}{r|ccccccccc}\n",
       "\t& Week & Home & Away & PointDif & HomeWin\\% & AwayWin\\% & HomePtsPG & HomeAvg1stDPG & \\\\\n",
       "\t\\hline\n",
       "\t& Float64 & Float64 & Float64 & Float64 & Float64 & Float64 & Float64 & Float64 & \\\\\n",
       "\t\\hline\n",
       "\t1 & 15.0 & 27.0 & 2.0 & -7.0 & 0.846154 & 0.307692 & 30.5385 & 21.4615 & $\\dots$ \\\\\n",
       "\t2 & 16.0 & 27.0 & 29.0 & 3.0 & 0.785714 & 0.571429 & 29.9286 & 21.3571 & $\\dots$ \\\\\n",
       "\t3 & 3.0 & 28.0 & 20.0 & -6.0 & 1.0 & 0.5 & 24.5 & 18.5 & $\\dots$ \\\\\n",
       "\t4 & 5.0 & 28.0 & 29.0 & 1.0 & 0.75 & 0.75 & 25.75 & 21.0 & $\\dots$ \\\\\n",
       "\t5 & 7.0 & 28.0 & 3.0 & -14.0 & 0.833333 & 0.666667 & 27.5 & 23.0 & $\\dots$ \\\\\n",
       "\t6 & 9.0 & 28.0 & 30.0 & 6.0 & 0.75 & 0.285714 & 26.0 & 22.0 & $\\dots$ \\\\\n",
       "\t7 & 13.0 & 28.0 & 18.0 & 7.0 & 0.818182 & 0.727273 & 26.5455 & 21.8182 & $\\dots$ \\\\\n",
       "\t8 & 16.0 & 28.0 & 1.0 & -14.0 & 0.785714 & 0.285714 & 26.5 & 21.5 & $\\dots$ \\\\\n",
       "\t9 & 17.0 & 28.0 & 27.0 & -5.0 & 0.733333 & 0.8 & 25.6 & 20.9333 & $\\dots$ \\\\\n",
       "\t10 & 2.0 & 29.0 & 20.0 & 18.0 & 1.0 & 1.0 & 30.0 & 22.0 & $\\dots$ \\\\\n",
       "\t11 & 4.0 & 29.0 & 30.0 & -15.0 & 1.0 & 0.333333 & 25.6667 & 20.6667 & $\\dots$ \\\\\n",
       "\t12 & 6.0 & 29.0 & 27.0 & -13.0 & 0.6 & 1.0 & 29.2 & 24.4 & $\\dots$ \\\\\n",
       "\t13 & 8.0 & 29.0 & 7.0 & 14.0 & 0.571429 & 0.0 & 27.1429 & 22.1429 & $\\dots$ \\\\\n",
       "\t14 & 11.0 & 29.0 & 6.0 & 10.0 & 0.555556 & 0.444444 & 25.1111 & 21.1111 & $\\dots$ \\\\\n",
       "\t15 & 12.0 & 29.0 & 3.0 & -39.0 & 0.6 & 0.8 & 24.3 & 20.3 & $\\dots$ \\\\\n",
       "\t16 & 14.0 & 29.0 & 28.0 & 16.0 & 0.583333 & 0.833333 & 23.5833 & 20.3333 & $\\dots$ \\\\\n",
       "\t17 & 17.0 & 29.0 & 1.0 & 7.0 & 0.533333 & 0.333333 & 24.2 & 21.1333 & $\\dots$ \\\\\n",
       "\t18 & 3.0 & 30.0 & 21.0 & -1.0 & 0.5 & 0.0 & 18.5 & 18.5 & $\\dots$ \\\\\n",
       "\t19 & 6.0 & 30.0 & 5.0 & -11.0 & 0.4 & 0.6 & 29.4 & 21.4 & $\\dots$ \\\\\n",
       "\t20 & 10.0 & 30.0 & 1.0 & 3.0 & 0.25 & 0.333333 & 28.75 & 22.75 & $\\dots$ \\\\\n",
       "\t21 & 11.0 & 30.0 & 20.0 & -17.0 & 0.333333 & 0.777778 & 28.8889 & 23.1111 & $\\dots$ \\\\\n",
       "\t22 & 14.0 & 30.0 & 14.0 & 3.0 & 0.416667 & 0.5 & 28.3333 & 22.3333 & $\\dots$ \\\\\n",
       "\t23 & 16.0 & 30.0 & 13.0 & -3.0 & 0.5 & 0.642857 & 29.7143 & 22.8571 & $\\dots$ \\\\\n",
       "\t24 & 17.0 & 30.0 & 2.0 & -6.0 & 0.466667 & 0.4 & 29.0667 & 22.6 & $\\dots$ \\\\\n",
       "\t25 & 2.0 & 31.0 & 14.0 & -2.0 & 1.0 & 0.0 & 43.0 & 21.0 & $\\dots$ \\\\\n",
       "\t26 & 5.0 & 31.0 & 4.0 & -7.0 & 0.5 & 0.75 & 22.75 & 20.5 & $\\dots$ \\\\\n",
       "\t27 & 7.0 & 31.0 & 26.0 & 3.0 & 0.333333 & 0.333333 & 16.3333 & 18.0 & $\\dots$ \\\\\n",
       "\t28 & 8.0 & 31.0 & 30.0 & 4.0 & 0.428571 & 0.333333 & 17.2857 & 18.5714 & $\\dots$ \\\\\n",
       "\t29 & 10.0 & 31.0 & 16.0 & 3.0 & 0.444444 & 0.666667 & 18.6667 & 18.8889 & $\\dots$ \\\\\n",
       "\t30 & 12.0 & 31.0 & 15.0 & 22.0 & 0.5 & 0.4 & 20.3 & 18.9 & $\\dots$ \\\\\n",
       "\t$\\dots$ & $\\dots$ & $\\dots$ & $\\dots$ & $\\dots$ & $\\dots$ & $\\dots$ & $\\dots$ & $\\dots$ &  \\\\\n",
       "\\end{tabular}\n"
      ],
      "text/plain": [
       "40×26 DataFrame. Omitted printing of 20 columns\n",
       "│ Row │ Week    │ Home    │ Away    │ PointDif │ HomeWin% │ AwayWin% │\n",
       "│     │ \u001b[90mFloat64\u001b[39m │ \u001b[90mFloat64\u001b[39m │ \u001b[90mFloat64\u001b[39m │ \u001b[90mFloat64\u001b[39m  │ \u001b[90mFloat64\u001b[39m  │ \u001b[90mFloat64\u001b[39m  │\n",
       "├─────┼─────────┼─────────┼─────────┼──────────┼──────────┼──────────┤\n",
       "│ 1   │ 15.0    │ 27.0    │ 2.0     │ -7.0     │ 0.846154 │ 0.307692 │\n",
       "│ 2   │ 16.0    │ 27.0    │ 29.0    │ 3.0      │ 0.785714 │ 0.571429 │\n",
       "│ 3   │ 3.0     │ 28.0    │ 20.0    │ -6.0     │ 1.0      │ 0.5      │\n",
       "│ 4   │ 5.0     │ 28.0    │ 29.0    │ 1.0      │ 0.75     │ 0.75     │\n",
       "│ 5   │ 7.0     │ 28.0    │ 3.0     │ -14.0    │ 0.833333 │ 0.666667 │\n",
       "│ 6   │ 9.0     │ 28.0    │ 30.0    │ 6.0      │ 0.75     │ 0.285714 │\n",
       "│ 7   │ 13.0    │ 28.0    │ 18.0    │ 7.0      │ 0.818182 │ 0.727273 │\n",
       "│ 8   │ 16.0    │ 28.0    │ 1.0     │ -14.0    │ 0.785714 │ 0.285714 │\n",
       "│ 9   │ 17.0    │ 28.0    │ 27.0    │ -5.0     │ 0.733333 │ 0.8      │\n",
       "│ 10  │ 2.0     │ 29.0    │ 20.0    │ 18.0     │ 1.0      │ 1.0      │\n",
       "⋮\n",
       "│ 30  │ 12.0    │ 31.0    │ 15.0    │ 22.0     │ 0.5      │ 0.4      │\n",
       "│ 31  │ 15.0    │ 31.0    │ 13.0    │ -3.0     │ 0.615385 │ 0.615385 │\n",
       "│ 32  │ 16.0    │ 31.0    │ 20.0    │ -10.0    │ 0.571429 │ 0.785714 │\n",
       "│ 33  │ 2.0     │ 32.0    │ 9.0     │ -10.0    │ 0.0      │ 1.0      │\n",
       "│ 34  │ 3.0     │ 32.0    │ 6.0     │ -16.0    │ 0.0      │ 0.5      │\n",
       "│ 35  │ 5.0     │ 32.0    │ 19.0    │ -26.0    │ 0.0      │ 1.0      │\n",
       "│ 36  │ 7.0     │ 32.0    │ 27.0    │ -9.0     │ 0.166667 │ 1.0      │\n",
       "│ 37  │ 11.0    │ 32.0    │ 22.0    │ -17.0    │ 0.111111 │ 0.222222 │\n",
       "│ 38  │ 12.0    │ 32.0    │ 11.0    │ 3.0      │ 0.1      │ 0.3      │\n",
       "│ 39  │ 15.0    │ 32.0    │ 24.0    │ -10.0    │ 0.230769 │ 0.461538 │\n",
       "│ 40  │ 16.0    │ 32.0    │ 21.0    │ -6.0     │ 0.214286 │ 0.214286 │"
      ]
     },
     "execution_count": 358,
     "metadata": {},
     "output_type": "execute_result"
    }
   ],
   "source": [
    "train = predict[1:200,:]\n",
    "test = predict[201:end,:]"
   ]
  },
  {
   "cell_type": "code",
   "execution_count": 365,
   "metadata": {},
   "outputs": [
    {
     "data": {
      "text/plain": [
       "3-element Array{Float64,1}:\n",
       "  0.6109656719452072\n",
       " -0.7337345511966165\n",
       "  3.4213306862777046"
      ]
     },
     "execution_count": 365,
     "metadata": {},
     "output_type": "execute_result"
    }
   ],
   "source": [
    "train_x = hcat(train[:HomePtsPG], train[:AwayPtsPG], ones(size(train)[1]))\n",
    "train_y = train[:PointDif]\n",
    "test_x = hcat(test[:HomePtsPG], test[:AwayPtsPG], ones(size(test)[1]))\n",
    "test_y = test[:PointDif]\n",
    "w = Xtrain \\ Ytrain"
   ]
  },
  {
   "cell_type": "code",
   "execution_count": 362,
   "metadata": {},
   "outputs": [
    {
     "data": {
      "text/plain": [
       "MSE (generic function with 1 method)"
      ]
     },
     "execution_count": 362,
     "metadata": {},
     "output_type": "execute_result"
    }
   ],
   "source": [
    "function MSE(y, pred)\n",
    "    return mean((y - pred).^2)\n",
    "end"
   ]
  },
  {
   "cell_type": "code",
   "execution_count": 366,
   "metadata": {},
   "outputs": [
    {
     "name": "stdout",
     "output_type": "stream",
     "text": [
      "Train MSE\t190.97796963973045\n",
      "Test MSE \t158.01410660906532\n"
     ]
    }
   ],
   "source": [
    "train_pred = train_x*w\n",
    "test_pred = test_x*w\n",
    "\n",
    "train_MSE = MSE(train_y, train_pred)\n",
    "test_MSE = MSE(test_y, test_pred)\n",
    "\n",
    "println(\"Train MSE\\t\", train_MSE)\n",
    "println(\"Test MSE \\t\", test_MSE)"
   ]
  },
  {
   "cell_type": "code",
   "execution_count": 373,
   "metadata": {},
   "outputs": [
    {
     "name": "stdout",
     "output_type": "stream",
     "text": [
      "The Bills will outscore the Seahawks by [-6.593815755525098] points."
     ]
    }
   ],
   "source": [
    "hTeam = \"Bills\"\n",
    "aTeam = \"Seahawks\"\n",
    "h_2020_ppg = 24.8\n",
    "a_2020_ppg = 34.3\n",
    "X = [h_2020_ppg a_2020_ppg 1]\n",
    "pd = X*w\n",
    "print(\"The $hTeam will outscore the $aTeam by $pd points.\")"
   ]
  },
  {
   "cell_type": "code",
   "execution_count": 374,
   "metadata": {},
   "outputs": [
    {
     "name": "stdout",
     "output_type": "stream",
     "text": [
      "The Jets will outscore the Patriots by [-3.6037246779832084] points."
     ]
    }
   ],
   "source": [
    "hTeam = \"Jets\"\n",
    "aTeam = \"Patriots\"\n",
    "h_2020_ppg = 11.8\n",
    "a_2020_ppg = 19.4\n",
    "X = [h_2020_ppg a_2020_ppg 1]\n",
    "pd = X*w\n",
    "print(\"The $hTeam will outscore the $aTeam by $pd points.\")"
   ]
  },
  {
   "cell_type": "code",
   "execution_count": null,
   "metadata": {},
   "outputs": [],
   "source": []
  }
 ],
 "metadata": {
  "kernelspec": {
   "display_name": "Julia 1.5.1",
   "language": "julia",
   "name": "julia-1.5"
  },
  "language_info": {
   "file_extension": ".jl",
   "mimetype": "application/julia",
   "name": "julia",
   "version": "1.5.1"
  }
 },
 "nbformat": 4,
 "nbformat_minor": 4
}
