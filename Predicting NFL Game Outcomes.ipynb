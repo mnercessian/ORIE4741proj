{
 "cells": [
  {
   "cell_type": "markdown",
   "metadata": {},
   "source": [
    "# Predicting NFL Game Outcomes\n",
    "## Rohan Lewis, Michael Nercessian, Matthew Armstrong"
   ]
  },
  {
   "cell_type": "markdown",
   "metadata": {},
   "source": [
    "# 2019 NFL Game by Game Data\n",
    "\n",
    "We first manually downloaded our data from this source: https://www.pro-football-reference.com/teams/\n",
    "\n",
    "Our first step will be to import all of the modules we need, and then load the data."
   ]
  },
  {
   "cell_type": "code",
   "execution_count": 81,
   "metadata": {},
   "outputs": [
    {
     "name": "stderr",
     "output_type": "stream",
     "text": [
      "\u001b[32m\u001b[1m  Resolving\u001b[22m\u001b[39m package versions...\n",
      "\u001b[32m\u001b[1mNo Changes\u001b[22m\u001b[39m to `~/.julia/environments/v1.5/Project.toml`\n",
      "\u001b[32m\u001b[1mNo Changes\u001b[22m\u001b[39m to `~/.julia/environments/v1.5/Manifest.toml`\n",
      "\u001b[32m\u001b[1m  Resolving\u001b[22m\u001b[39m package versions...\n",
      "\u001b[32m\u001b[1mNo Changes\u001b[22m\u001b[39m to `~/.julia/environments/v1.5/Project.toml`\n",
      "\u001b[32m\u001b[1mNo Changes\u001b[22m\u001b[39m to `~/.julia/environments/v1.5/Manifest.toml`\n",
      "\u001b[32m\u001b[1m  Resolving\u001b[22m\u001b[39m package versions...\n",
      "\u001b[32m\u001b[1mNo Changes\u001b[22m\u001b[39m to `~/.julia/environments/v1.5/Project.toml`\n",
      "\u001b[32m\u001b[1mNo Changes\u001b[22m\u001b[39m to `~/.julia/environments/v1.5/Manifest.toml`\n",
      "\u001b[32m\u001b[1m  Resolving\u001b[22m\u001b[39m package versions...\n",
      "\u001b[32m\u001b[1mNo Changes\u001b[22m\u001b[39m to `~/.julia/environments/v1.5/Project.toml`\n",
      "\u001b[32m\u001b[1mNo Changes\u001b[22m\u001b[39m to `~/.julia/environments/v1.5/Manifest.toml`\n"
     ]
    }
   ],
   "source": [
    "import Pkg\n",
    "Pkg.add(\"CSV\")\n",
    "Pkg.add(\"Plots\")\n",
    "Pkg.add(\"DataFrames\")\n",
    "Pkg.add(\"Statistics\")"
   ]
  },
  {
   "cell_type": "code",
   "execution_count": 2,
   "metadata": {},
   "outputs": [],
   "source": [
    "using Random\n",
    "using CSV\n",
    "using Plots\n",
    "using DataFrames\n",
    "using Statistics"
   ]
  },
  {
   "cell_type": "code",
   "execution_count": 23,
   "metadata": {},
   "outputs": [
    {
     "name": "stdout",
     "output_type": "stream",
     "text": [
      "32×5 DataFrame\n",
      "│ Row │ ID    │ Name                 │ Abbreviation │ Conference │ Division │\n",
      "│     │ \u001b[90mInt64\u001b[39m │ \u001b[90mString\u001b[39m               │ \u001b[90mString\u001b[39m       │ \u001b[90mString\u001b[39m     │ \u001b[90mString\u001b[39m   │\n",
      "├─────┼───────┼──────────────────────┼──────────────┼────────────┼──────────┤\n",
      "│ 1   │ 1     │ Arizona Cardinals    │ ARI          │ NFC        │ West     │\n",
      "│ 2   │ 2     │ Atlanta Falcons      │ ATL          │ NFC        │ South    │\n",
      "│ 3   │ 3     │ Baltimore Ravens     │ BAL          │ AFC        │ North    │\n",
      "│ 4   │ 4     │ Buffalo Bills        │ BUF          │ AFC        │ East     │\n",
      "│ 5   │ 5     │ Carolina Panthers    │ CAR          │ NFC        │ South    │\n",
      "│ 6   │ 6     │ Chicago Bears        │ CHI          │ NFC        │ North    │\n",
      "│ 7   │ 7     │ Cincinnati Bengals   │ CIN          │ AFC        │ North    │\n",
      "│ 8   │ 8     │ Cleveland Browns     │ CLE          │ AFC        │ North    │\n",
      "│ 9   │ 9     │ Dallas Cowboys       │ DAL          │ NFC        │ East     │\n",
      "│ 10  │ 10    │ Denver Broncos       │ DEN          │ AFC        │ West     │\n",
      "│ 11  │ 11    │ Detroit Lions        │ DET          │ NFC        │ North    │\n",
      "│ 12  │ 12    │ Green Bay Packers    │ GB           │ NFC        │ North    │\n",
      "│ 13  │ 13    │ Houston Texans       │ HOU          │ AFC        │ South    │\n",
      "│ 14  │ 14    │ Indianapolis Colts   │ IND          │ AFC        │ South    │\n",
      "│ 15  │ 15    │ Jacksonville Jaguars │ JAX          │ AFC        │ South    │\n",
      "│ 16  │ 16    │ Kansas City Chiefs   │ KC           │ AFC        │ West     │\n",
      "│ 17  │ 17    │ Miami Dolphins       │ MIA          │ AFC        │ East     │\n",
      "│ 18  │ 18    │ Minnesota Vikings    │ MIN          │ NFC        │ North    │\n",
      "│ 19  │ 19    │ New England Patriots │ NE           │ AFC        │ East     │\n",
      "│ 20  │ 20    │ New Orleans Saints   │ NO           │ NFC        │ South    │\n",
      "│ 21  │ 21    │ New York Giants      │ NYG          │ NFC        │ East     │\n",
      "│ 22  │ 22    │ New York Jets        │ NYJ          │ AFC        │ East     │\n",
      "│ 23  │ 23    │ Oakland Raiders      │ LV           │ AFC        │ West     │\n",
      "│ 24  │ 24    │ Philadelphia Eagles  │ PHI          │ NFC        │ East     │\n",
      "│ 25  │ 25    │ Pittsburgh Steelers  │ PIT          │ AFC        │ North    │\n",
      "│ 26  │ 26    │ Los Angeles Chargers │ LAC          │ AFC        │ West     │\n",
      "│ 27  │ 27    │ San Francisco 49ers  │ SF           │ NFC        │ West     │\n",
      "│ 28  │ 28    │ Seattle Seahawks     │ SEA          │ NFC        │ West     │\n",
      "│ 29  │ 29    │ Los Angeles Rams     │ LAR          │ NFC        │ West     │\n",
      "│ 30  │ 30    │ Tampa Bay Buccaneers │ TB           │ NFC        │ South    │\n",
      "│ 31  │ 31    │ Tennessee Titans     │ TEN          │ AFC        │ South    │\n",
      "│ 32  │ 32    │ Washington Redskins  │ WAS          │ NFC        │ East     │"
     ]
    }
   ],
   "source": [
    "nfl_teams = CSV.read(\"Datasets/nfl_teams.csv\")\n",
    "nfl_teams_with_spaces = CSV.read(\"Datasets/nfl_teams_with_spaces.csv\")\n",
    "showall(nfl_teams_with_spaces)"
   ]
  },
  {
   "cell_type": "code",
   "execution_count": 24,
   "metadata": {},
   "outputs": [
    {
     "data": {
      "text/plain": [
       "32×2 Array{Any,2}:\n",
       "  1  \"ARI\"\n",
       "  2  \"ATL\"\n",
       "  3  \"BAL\"\n",
       "  4  \"BUF\"\n",
       "  5  \"CAR\"\n",
       "  6  \"CHI\"\n",
       "  7  \"CIN\"\n",
       "  8  \"CLE\"\n",
       "  9  \"DAL\"\n",
       " 10  \"DEN\"\n",
       " 11  \"DET\"\n",
       " 12  \"GB\"\n",
       " 13  \"HOU\"\n",
       "  ⋮  \n",
       " 21  \"NYG\"\n",
       " 22  \"NYJ\"\n",
       " 23  \"LV\"\n",
       " 24  \"PHI\"\n",
       " 25  \"PIT\"\n",
       " 26  \"LAC\"\n",
       " 27  \"SF\"\n",
       " 28  \"SEA\"\n",
       " 29  \"LAR\"\n",
       " 30  \"TB\"\n",
       " 31  \"TEN\"\n",
       " 32  \"WAS\""
      ]
     },
     "execution_count": 24,
     "metadata": {},
     "output_type": "execute_result"
    }
   ],
   "source": [
    "abbreviations = [nfl_teams[:, 1] nfl_teams[:, 3]]"
   ]
  },
  {
   "cell_type": "code",
   "execution_count": 25,
   "metadata": {},
   "outputs": [
    {
     "data": {
      "text/plain": [
       "32×2 Array{Any,2}:\n",
       "  1  \"cardinals\"\n",
       "  2  \"falcons\"\n",
       "  3  \"ravens\"\n",
       "  4  \"bills\"\n",
       "  5  \"panthers\"\n",
       "  6  \"bears\"\n",
       "  7  \"bengals\"\n",
       "  8  \"browns\"\n",
       "  9  \"cowboys\"\n",
       " 10  \"broncos\"\n",
       " 11  \"lions\"\n",
       " 12  \"packers\"\n",
       " 13  \"texans\"\n",
       "  ⋮  \n",
       " 21  \"giants\"\n",
       " 22  \"jets\"\n",
       " 23  \"raiders\"\n",
       " 24  \"eagles\"\n",
       " 25  \"steelers\"\n",
       " 26  \"chargers\"\n",
       " 27  \"49ers\"\n",
       " 28  \"seahawks\"\n",
       " 29  \"rams\"\n",
       " 30  \"buccaneers\"\n",
       " 31  \"titans\"\n",
       " 32  \"redskins\""
      ]
     },
     "execution_count": 25,
     "metadata": {},
     "output_type": "execute_result"
    }
   ],
   "source": [
    "team_names = nfl_teams[:, 2]\n",
    "team_names_split = String.(reduce(hcat,split.(team_names,' ')))\n",
    "team_names_split = team_names_split[2, :]\n",
    "team_names_split = [nfl_teams[:, 1] map(lowercase, team_names_split)]"
   ]
  },
  {
   "cell_type": "code",
   "execution_count": 26,
   "metadata": {},
   "outputs": [
    {
     "data": {
      "text/plain": [
       "32×2 Array{Any,2}:\n",
       "  1  \"Datasets/2019 Teams/cardinals_2019.csv\"\n",
       "  2  \"Datasets/2019 Teams/falcons_2019.csv\"\n",
       "  3  \"Datasets/2019 Teams/ravens_2019.csv\"\n",
       "  4  \"Datasets/2019 Teams/bills_2019.csv\"\n",
       "  5  \"Datasets/2019 Teams/panthers_2019.csv\"\n",
       "  6  \"Datasets/2019 Teams/bears_2019.csv\"\n",
       "  7  \"Datasets/2019 Teams/bengals_2019.csv\"\n",
       "  8  \"Datasets/2019 Teams/browns_2019.csv\"\n",
       "  9  \"Datasets/2019 Teams/cowboys_2019.csv\"\n",
       " 10  \"Datasets/2019 Teams/broncos_2019.csv\"\n",
       " 11  \"Datasets/2019 Teams/lions_2019.csv\"\n",
       " 12  \"Datasets/2019 Teams/packers_2019.csv\"\n",
       " 13  \"Datasets/2019 Teams/texans_2019.csv\"\n",
       "  ⋮  \n",
       " 21  \"Datasets/2019 Teams/giants_2019.csv\"\n",
       " 22  \"Datasets/2019 Teams/jets_2019.csv\"\n",
       " 23  \"Datasets/2019 Teams/raiders_2019.csv\"\n",
       " 24  \"Datasets/2019 Teams/eagles_2019.csv\"\n",
       " 25  \"Datasets/2019 Teams/steelers_2019.csv\"\n",
       " 26  \"Datasets/2019 Teams/chargers_2019.csv\"\n",
       " 27  \"Datasets/2019 Teams/49ers_2019.csv\"\n",
       " 28  \"Datasets/2019 Teams/seahawks_2019.csv\"\n",
       " 29  \"Datasets/2019 Teams/rams_2019.csv\"\n",
       " 30  \"Datasets/2019 Teams/buccaneers_2019.csv\"\n",
       " 31  \"Datasets/2019 Teams/titans_2019.csv\"\n",
       " 32  \"Datasets/2019 Teams/redskins_2019.csv\""
      ]
     },
     "execution_count": 26,
     "metadata": {},
     "output_type": "execute_result"
    }
   ],
   "source": [
    "team_paths = []\n",
    "for i in 1:size(team_names_split,1)\n",
    "    team_names_split[i,2] = \"Datasets/2019 Teams/\" * team_names_split[i,2] * \"_2019.csv\"\n",
    "end\n",
    "team_names_split"
   ]
  },
  {
   "cell_type": "code",
   "execution_count": 27,
   "metadata": {},
   "outputs": [],
   "source": [
    "# # now let's create some DataFrame variables\n",
    "# cardinals_19 = CSV.read(team_names_split[1,2])\n",
    "# falcons_19 = CSV.read(team_names_split[2,2])\n",
    "# ravens_19 = CSV.read(team_names_split[3,2])\n",
    "# bills_19 = CSV.read(team_names_split[4,2])\n",
    "# panthers_19 = CSV.read(team_names_split[5,2])\n",
    "# bears_19 = CSV.read(team_names_split[6,2])\n",
    "# bengals_19 = CSV.read(team_names_split[7,2])\n",
    "# browns_19 = CSV.read(team_names_split[8,2])\n",
    "# cowboys_19 = CSV.read(team_names_split[9,2])\n",
    "# broncos_19 = CSV.read(team_names_split[10,2])\n",
    "# lions_19 = CSV.read(team_names_split[11,2])\n",
    "# packers_19 = CSV.read(team_names_split[12,2])\n",
    "# texans_19 = CSV.read(team_names_split[13,2])\n",
    "# colts_19 = CSV.read(team_names_split[14,2])\n",
    "# jaguars_19 = CSV.read(team_names_split[15,2])\n",
    "# chiefs_19 = CSV.read(team_names_split[16,2])\n",
    "# dolphins_19 = CSV.read(team_names_split[17,2])\n",
    "# vikings_19 = CSV.read(team_names_split[18,2])\n",
    "# patriots_19 = CSV.read(team_names_split[19,2])\n",
    "# saints_19 = CSV.read(team_names_split[20,2])\n",
    "# giants_19 = CSV.read(team_names_split[21,2])\n",
    "# jets_19 = CSV.read(team_names_split[22,2])\n",
    "# raiders_19 = CSV.read(team_names_split[23,2])\n",
    "# eagles_19 = CSV.read(team_names_split[24,2])\n",
    "# steelers_19 = CSV.read(team_names_split[25,2])\n",
    "# chargers_19 = CSV.read(team_names_split[26,2])\n",
    "# # note: name different than csv file name\n",
    "# fortyniners_19 = CSV.read(team_names_split[27,2])\n",
    "# seahawsks_19 = CSV.read(team_names_split[28,2])\n",
    "# rams_19 = CSV.read(team_names_split[29,2])\n",
    "# buccaneers_19 = CSV.read(team_names_split[30,2])\n",
    "# titans_19 = CSV.read(team_names_split[31,2])\n",
    "# redskins_19 = CSV.read(team_names_split[32,2])\n",
    "# teams = []\n",
    "# # for i in 1:32\n",
    "# #     teams[i] = CSV.read(team_names_split[i,2])"
   ]
  },
  {
   "cell_type": "code",
   "execution_count": 9,
   "metadata": {},
   "outputs": [],
   "source": [
    "original_teams = Array{DataFrame,1}(undef,32)\n",
    "for i in 1:32\n",
    "#     append!(teams, CSV.read(team_names_split[i,2], header))\n",
    "    original_teams[i] = CSV.read(team_names_split[i,2], header = 2)\n",
    "end"
   ]
  },
  {
   "cell_type": "code",
   "execution_count": 10,
   "metadata": {},
   "outputs": [],
   "source": [
    "teams = copy(original_teams)\n",
    "for i in 1:32    \n",
    "    teams[i] = teams[i][1:17,:]\n",
    "    teams[i] = teams[i][.!(ismissing.(teams[i][!, :Date])), :]\n",
    "    #look into doing all at once\n",
    "    teams[i] = teams[i][:, 1:22]\n",
    "    teams[i] = select!(teams[i], Not(:OT))\n",
    "    teams[i] = select!(teams[i], Not(:Column5))\n",
    "    teams[i] = select!(teams[i], Not(:Column6))\n",
    "    teams[i] = select!(teams[i], Not(:Column4))\n",
    "end"
   ]
  },
  {
   "cell_type": "code",
   "execution_count": 11,
   "metadata": {},
   "outputs": [],
   "source": [
    "for i in 1:32    \n",
    "    insertcols!(teams[i], 6, :Team => trunc.(Int,i*ones(16)))\n",
    "end"
   ]
  },
  {
   "cell_type": "code",
   "execution_count": 12,
   "metadata": {},
   "outputs": [],
   "source": [
    "#showall(teams[18])\n",
    "changeOpp = copy(teams)\n",
    "for k in 1:32\n",
    "    opps = []\n",
    "    for i in 1:16\n",
    "        opp = changeOpp[k][:Opp][i]\n",
    "        idx = 0\n",
    "        for j in 1:32\n",
    "            if nfl_teams_with_spaces[:,2][j] == opp\n",
    "                idx = j\n",
    "            end\n",
    "        end\n",
    "        append!(opps, idx)\n",
    "    end\n",
    "    insertcols!(changeOpp[k], 7, :Opponent => opps)\n",
    "    changeOpp[k] = select!(changeOpp[k], Not(:Opp))\n",
    "end"
   ]
  },
  {
   "cell_type": "code",
   "execution_count": 13,
   "metadata": {},
   "outputs": [],
   "source": [
    "#pats = copy(teams[12])\n",
    "home = copy(teams)\n",
    "for i in 1:32\n",
    "    home[i][:Column9][Not(ismissing.(home[i][:Column9]))] .= \"0\"\n",
    "    home[i][:Column9][ismissing.(home[i][:Column9])] .= \"1\"\n",
    "end"
   ]
  },
  {
   "cell_type": "code",
   "execution_count": 21,
   "metadata": {},
   "outputs": [],
   "source": [
    "season_data = DataFrame(home[1])\n",
    "for i in 2:32\n",
    "    final = vcat(final, home[i])\n",
    "end"
   ]
  },
  {
   "cell_type": "code",
   "execution_count": 22,
   "metadata": {},
   "outputs": [
    {
     "data": {
      "text/html": [
       "<table class=\"data-frame\"><thead><tr><th></th><th>Week</th><th>Day</th><th>Date</th><th>Rec</th><th>Column9</th><th>Team</th><th>Opponent</th><th>Tm</th><th>Opp_1</th></tr><tr><th></th><th>Any</th><th>String?</th><th>String?</th><th>Any</th><th>String?</th><th>Int64</th><th>Any</th><th>Int64?</th><th>Int64?</th></tr></thead><tbody><p>512 rows × 19 columns (omitted printing of 10 columns)</p><tr><th>1</th><td>1</td><td>Sun</td><td>September 8</td><td>0-0-1</td><td>1</td><td>1</td><td>11</td><td>27</td><td>27</td></tr><tr><th>2</th><td>2</td><td>Sun</td><td>September 15</td><td>0-1-1</td><td>0</td><td>1</td><td>3</td><td>17</td><td>23</td></tr><tr><th>3</th><td>3</td><td>Sun</td><td>September 22</td><td>0-2-1</td><td>1</td><td>1</td><td>5</td><td>20</td><td>38</td></tr><tr><th>4</th><td>4</td><td>Sun</td><td>September 29</td><td>0-3-1</td><td>1</td><td>1</td><td>28</td><td>10</td><td>27</td></tr><tr><th>5</th><td>5</td><td>Sun</td><td>October 6</td><td>1-3-1</td><td>0</td><td>1</td><td>7</td><td>26</td><td>23</td></tr><tr><th>6</th><td>6</td><td>Sun</td><td>October 13</td><td>2-3-1</td><td>1</td><td>1</td><td>2</td><td>34</td><td>33</td></tr><tr><th>7</th><td>7</td><td>Sun</td><td>October 20</td><td>3-3-1</td><td>0</td><td>1</td><td>21</td><td>27</td><td>21</td></tr><tr><th>8</th><td>8</td><td>Sun</td><td>October 27</td><td>3-4-1</td><td>0</td><td>1</td><td>20</td><td>9</td><td>31</td></tr><tr><th>9</th><td>9</td><td>Thu</td><td>October 31</td><td>3-5-1</td><td>1</td><td>1</td><td>27</td><td>25</td><td>28</td></tr><tr><th>10</th><td>10</td><td>Sun</td><td>November 10</td><td>3-6-1</td><td>0</td><td>1</td><td>30</td><td>27</td><td>30</td></tr><tr><th>11</th><td>11</td><td>Sun</td><td>November 17</td><td>3-7-1</td><td>0</td><td>1</td><td>27</td><td>26</td><td>36</td></tr><tr><th>12</th><td>13</td><td>Sun</td><td>December 1</td><td>3-8-1</td><td>1</td><td>1</td><td>29</td><td>7</td><td>34</td></tr><tr><th>13</th><td>14</td><td>Sun</td><td>December 8</td><td>3-9-1</td><td>1</td><td>1</td><td>25</td><td>17</td><td>23</td></tr><tr><th>14</th><td>15</td><td>Sun</td><td>December 15</td><td>4-9-1</td><td>1</td><td>1</td><td>8</td><td>38</td><td>24</td></tr><tr><th>15</th><td>16</td><td>Sun</td><td>December 22</td><td>5-9-1</td><td>0</td><td>1</td><td>28</td><td>27</td><td>13</td></tr><tr><th>16</th><td>17</td><td>Sun</td><td>December 29</td><td>5-10-1</td><td>0</td><td>1</td><td>29</td><td>24</td><td>31</td></tr><tr><th>17</th><td>1</td><td>Sun</td><td>September 8</td><td>0000-01-01</td><td>0</td><td>2</td><td>18</td><td>12</td><td>28</td></tr><tr><th>18</th><td>2</td><td>Sun</td><td>September 15</td><td>0001-01-01</td><td>1</td><td>2</td><td>24</td><td>24</td><td>20</td></tr><tr><th>19</th><td>3</td><td>Sun</td><td>September 22</td><td>0001-02-01</td><td>0</td><td>2</td><td>14</td><td>24</td><td>27</td></tr><tr><th>20</th><td>4</td><td>Sun</td><td>September 29</td><td>0001-03-01</td><td>1</td><td>2</td><td>31</td><td>10</td><td>24</td></tr><tr><th>21</th><td>5</td><td>Sun</td><td>October 6</td><td>0001-04-01</td><td>0</td><td>2</td><td>13</td><td>32</td><td>53</td></tr><tr><th>22</th><td>6</td><td>Sun</td><td>October 13</td><td>0001-05-01</td><td>0</td><td>2</td><td>1</td><td>33</td><td>34</td></tr><tr><th>23</th><td>7</td><td>Sun</td><td>October 20</td><td>0001-06-01</td><td>1</td><td>2</td><td>29</td><td>10</td><td>37</td></tr><tr><th>24</th><td>8</td><td>Sun</td><td>October 27</td><td>0001-07-01</td><td>1</td><td>2</td><td>28</td><td>20</td><td>27</td></tr><tr><th>25</th><td>10</td><td>Sun</td><td>November 10</td><td>0002-07-01</td><td>0</td><td>2</td><td>20</td><td>26</td><td>9</td></tr><tr><th>26</th><td>11</td><td>Sun</td><td>November 17</td><td>0003-07-01</td><td>0</td><td>2</td><td>5</td><td>29</td><td>3</td></tr><tr><th>27</th><td>12</td><td>Sun</td><td>November 24</td><td>0003-08-01</td><td>1</td><td>2</td><td>30</td><td>22</td><td>35</td></tr><tr><th>28</th><td>13</td><td>Thu</td><td>November 28</td><td>0003-09-01</td><td>1</td><td>2</td><td>20</td><td>18</td><td>26</td></tr><tr><th>29</th><td>14</td><td>Sun</td><td>December 8</td><td>0004-09-01</td><td>1</td><td>2</td><td>5</td><td>40</td><td>20</td></tr><tr><th>30</th><td>15</td><td>Sun</td><td>December 15</td><td>0005-09-01</td><td>0</td><td>2</td><td>27</td><td>29</td><td>22</td></tr><tr><th>&vellip;</th><td>&vellip;</td><td>&vellip;</td><td>&vellip;</td><td>&vellip;</td><td>&vellip;</td><td>&vellip;</td><td>&vellip;</td><td>&vellip;</td><td>&vellip;</td></tr></tbody></table>"
      ],
      "text/latex": [
       "\\begin{tabular}{r|cccccccccc}\n",
       "\t& Week & Day & Date & Rec & Column9 & Team & Opponent & Tm & Opp\\_1 & \\\\\n",
       "\t\\hline\n",
       "\t& Any & String? & String? & Any & String? & Int64 & Any & Int64? & Int64? & \\\\\n",
       "\t\\hline\n",
       "\t1 & 1 & Sun & September 8 & 0-0-1 & 1 & 1 & 11 & 27 & 27 & $\\dots$ \\\\\n",
       "\t2 & 2 & Sun & September 15 & 0-1-1 & 0 & 1 & 3 & 17 & 23 & $\\dots$ \\\\\n",
       "\t3 & 3 & Sun & September 22 & 0-2-1 & 1 & 1 & 5 & 20 & 38 & $\\dots$ \\\\\n",
       "\t4 & 4 & Sun & September 29 & 0-3-1 & 1 & 1 & 28 & 10 & 27 & $\\dots$ \\\\\n",
       "\t5 & 5 & Sun & October 6 & 1-3-1 & 0 & 1 & 7 & 26 & 23 & $\\dots$ \\\\\n",
       "\t6 & 6 & Sun & October 13 & 2-3-1 & 1 & 1 & 2 & 34 & 33 & $\\dots$ \\\\\n",
       "\t7 & 7 & Sun & October 20 & 3-3-1 & 0 & 1 & 21 & 27 & 21 & $\\dots$ \\\\\n",
       "\t8 & 8 & Sun & October 27 & 3-4-1 & 0 & 1 & 20 & 9 & 31 & $\\dots$ \\\\\n",
       "\t9 & 9 & Thu & October 31 & 3-5-1 & 1 & 1 & 27 & 25 & 28 & $\\dots$ \\\\\n",
       "\t10 & 10 & Sun & November 10 & 3-6-1 & 0 & 1 & 30 & 27 & 30 & $\\dots$ \\\\\n",
       "\t11 & 11 & Sun & November 17 & 3-7-1 & 0 & 1 & 27 & 26 & 36 & $\\dots$ \\\\\n",
       "\t12 & 13 & Sun & December 1 & 3-8-1 & 1 & 1 & 29 & 7 & 34 & $\\dots$ \\\\\n",
       "\t13 & 14 & Sun & December 8 & 3-9-1 & 1 & 1 & 25 & 17 & 23 & $\\dots$ \\\\\n",
       "\t14 & 15 & Sun & December 15 & 4-9-1 & 1 & 1 & 8 & 38 & 24 & $\\dots$ \\\\\n",
       "\t15 & 16 & Sun & December 22 & 5-9-1 & 0 & 1 & 28 & 27 & 13 & $\\dots$ \\\\\n",
       "\t16 & 17 & Sun & December 29 & 5-10-1 & 0 & 1 & 29 & 24 & 31 & $\\dots$ \\\\\n",
       "\t17 & 1 & Sun & September 8 & 0000-01-01 & 0 & 2 & 18 & 12 & 28 & $\\dots$ \\\\\n",
       "\t18 & 2 & Sun & September 15 & 0001-01-01 & 1 & 2 & 24 & 24 & 20 & $\\dots$ \\\\\n",
       "\t19 & 3 & Sun & September 22 & 0001-02-01 & 0 & 2 & 14 & 24 & 27 & $\\dots$ \\\\\n",
       "\t20 & 4 & Sun & September 29 & 0001-03-01 & 1 & 2 & 31 & 10 & 24 & $\\dots$ \\\\\n",
       "\t21 & 5 & Sun & October 6 & 0001-04-01 & 0 & 2 & 13 & 32 & 53 & $\\dots$ \\\\\n",
       "\t22 & 6 & Sun & October 13 & 0001-05-01 & 0 & 2 & 1 & 33 & 34 & $\\dots$ \\\\\n",
       "\t23 & 7 & Sun & October 20 & 0001-06-01 & 1 & 2 & 29 & 10 & 37 & $\\dots$ \\\\\n",
       "\t24 & 8 & Sun & October 27 & 0001-07-01 & 1 & 2 & 28 & 20 & 27 & $\\dots$ \\\\\n",
       "\t25 & 10 & Sun & November 10 & 0002-07-01 & 0 & 2 & 20 & 26 & 9 & $\\dots$ \\\\\n",
       "\t26 & 11 & Sun & November 17 & 0003-07-01 & 0 & 2 & 5 & 29 & 3 & $\\dots$ \\\\\n",
       "\t27 & 12 & Sun & November 24 & 0003-08-01 & 1 & 2 & 30 & 22 & 35 & $\\dots$ \\\\\n",
       "\t28 & 13 & Thu & November 28 & 0003-09-01 & 1 & 2 & 20 & 18 & 26 & $\\dots$ \\\\\n",
       "\t29 & 14 & Sun & December 8 & 0004-09-01 & 1 & 2 & 5 & 40 & 20 & $\\dots$ \\\\\n",
       "\t30 & 15 & Sun & December 15 & 0005-09-01 & 0 & 2 & 27 & 29 & 22 & $\\dots$ \\\\\n",
       "\t$\\dots$ & $\\dots$ & $\\dots$ & $\\dots$ & $\\dots$ & $\\dots$ & $\\dots$ & $\\dots$ & $\\dots$ & $\\dots$ &  \\\\\n",
       "\\end{tabular}\n"
      ],
      "text/plain": [
       "512×19 DataFrame. Omitted printing of 12 columns\n",
       "│ Row │ Week │ Day     │ Date         │ Rec   │ Column9 │ Team  │ Opponent │\n",
       "│     │ \u001b[90mAny\u001b[39m  │ \u001b[90mString?\u001b[39m │ \u001b[90mString?\u001b[39m      │ \u001b[90mAny\u001b[39m   │ \u001b[90mString?\u001b[39m │ \u001b[90mInt64\u001b[39m │ \u001b[90mAny\u001b[39m      │\n",
       "├─────┼──────┼─────────┼──────────────┼───────┼─────────┼───────┼──────────┤\n",
       "│ 1   │ 1    │ Sun     │ September 8  │ 0-0-1 │ 1       │ 1     │ 11       │\n",
       "│ 2   │ 2    │ Sun     │ September 15 │ 0-1-1 │ 0       │ 1     │ 3        │\n",
       "│ 3   │ 3    │ Sun     │ September 22 │ 0-2-1 │ 1       │ 1     │ 5        │\n",
       "│ 4   │ 4    │ Sun     │ September 29 │ 0-3-1 │ 1       │ 1     │ 28       │\n",
       "│ 5   │ 5    │ Sun     │ October 6    │ 1-3-1 │ 0       │ 1     │ 7        │\n",
       "│ 6   │ 6    │ Sun     │ October 13   │ 2-3-1 │ 1       │ 1     │ 2        │\n",
       "│ 7   │ 7    │ Sun     │ October 20   │ 3-3-1 │ 0       │ 1     │ 21       │\n",
       "│ 8   │ 8    │ Sun     │ October 27   │ 3-4-1 │ 0       │ 1     │ 20       │\n",
       "│ 9   │ 9    │ Thu     │ October 31   │ 3-5-1 │ 1       │ 1     │ 27       │\n",
       "│ 10  │ 10   │ Sun     │ November 10  │ 3-6-1 │ 0       │ 1     │ 30       │\n",
       "⋮\n",
       "│ 502 │ 6    │ Sun     │ October 13   │ 1-5   │ 0       │ 32    │ 17       │\n",
       "│ 503 │ 7    │ Sun     │ October 20   │ 1-6   │ 1       │ 32    │ 27       │\n",
       "│ 504 │ 8    │ Thu     │ October 24   │ 1-7   │ 0       │ 32    │ 18       │\n",
       "│ 505 │ 9    │ Sun     │ November 3   │ 1-8   │ 0       │ 32    │ 4        │\n",
       "│ 506 │ 11   │ Sun     │ November 17  │ 1-9   │ 1       │ 32    │ 22       │\n",
       "│ 507 │ 12   │ Sun     │ November 24  │ 2-9   │ 1       │ 32    │ 11       │\n",
       "│ 508 │ 13   │ Sun     │ December 1   │ 3-9   │ 0       │ 32    │ 5        │\n",
       "│ 509 │ 14   │ Sun     │ December 8   │ 3-10  │ 0       │ 32    │ 12       │\n",
       "│ 510 │ 15   │ Sun     │ December 15  │ 3-11  │ 1       │ 32    │ 24       │\n",
       "│ 511 │ 16   │ Sun     │ December 22  │ 3-12  │ 1       │ 32    │ 21       │\n",
       "│ 512 │ 17   │ Sun     │ December 29  │ 3-13  │ 0       │ 32    │ 9        │"
      ]
     },
     "execution_count": 22,
     "metadata": {},
     "output_type": "execute_result"
    }
   ],
   "source": [
    "final"
   ]
  },
  {
   "cell_type": "code",
   "execution_count": null,
   "metadata": {},
   "outputs": [],
   "source": []
  }
 ],
 "metadata": {
  "kernelspec": {
   "display_name": "Julia 1.5.1",
   "language": "julia",
   "name": "julia-1.5"
  },
  "language_info": {
   "file_extension": ".jl",
   "mimetype": "application/julia",
   "name": "julia",
   "version": "1.5.1"
  }
 },
 "nbformat": 4,
 "nbformat_minor": 4
}
