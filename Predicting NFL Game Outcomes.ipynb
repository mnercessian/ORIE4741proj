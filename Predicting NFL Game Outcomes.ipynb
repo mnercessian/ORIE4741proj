{
 "cells": [
  {
   "cell_type": "markdown",
   "metadata": {},
   "source": [
    "# Predicting NFL Game Outcomes\n",
    "## Rohan Lewis, Michael Nercessian, Matthew Armstrong"
   ]
  },
  {
   "cell_type": "markdown",
   "metadata": {},
   "source": [
    "# 2019 NFL Game by Game Data\n",
    "\n",
    "We first manually downloaded our data from this source: https://www.pro-football-reference.com/teams/\n",
    "\n",
    "Our first step will be to import all of the modules we need, and then load the data."
   ]
  },
  {
   "cell_type": "code",
   "execution_count": 81,
   "metadata": {},
   "outputs": [
    {
     "name": "stderr",
     "output_type": "stream",
     "text": [
      "\u001b[32m\u001b[1m  Resolving\u001b[22m\u001b[39m package versions...\n",
      "\u001b[32m\u001b[1mNo Changes\u001b[22m\u001b[39m to `~/.julia/environments/v1.5/Project.toml`\n",
      "\u001b[32m\u001b[1mNo Changes\u001b[22m\u001b[39m to `~/.julia/environments/v1.5/Manifest.toml`\n",
      "\u001b[32m\u001b[1m  Resolving\u001b[22m\u001b[39m package versions...\n",
      "\u001b[32m\u001b[1mNo Changes\u001b[22m\u001b[39m to `~/.julia/environments/v1.5/Project.toml`\n",
      "\u001b[32m\u001b[1mNo Changes\u001b[22m\u001b[39m to `~/.julia/environments/v1.5/Manifest.toml`\n",
      "\u001b[32m\u001b[1m  Resolving\u001b[22m\u001b[39m package versions...\n",
      "\u001b[32m\u001b[1mNo Changes\u001b[22m\u001b[39m to `~/.julia/environments/v1.5/Project.toml`\n",
      "\u001b[32m\u001b[1mNo Changes\u001b[22m\u001b[39m to `~/.julia/environments/v1.5/Manifest.toml`\n",
      "\u001b[32m\u001b[1m  Resolving\u001b[22m\u001b[39m package versions...\n",
      "\u001b[32m\u001b[1mNo Changes\u001b[22m\u001b[39m to `~/.julia/environments/v1.5/Project.toml`\n",
      "\u001b[32m\u001b[1mNo Changes\u001b[22m\u001b[39m to `~/.julia/environments/v1.5/Manifest.toml`\n"
     ]
    }
   ],
   "source": [
    "import Pkg\n",
    "Pkg.add(\"CSV\")\n",
    "Pkg.add(\"Plots\")\n",
    "Pkg.add(\"DataFrames\")\n",
    "Pkg.add(\"Statistics\")"
   ]
  },
  {
   "cell_type": "code",
   "execution_count": 82,
   "metadata": {},
   "outputs": [],
   "source": [
    "using Random\n",
    "using CSV\n",
    "using Plots\n",
    "using DataFrames\n",
    "using Statistics"
   ]
  },
  {
   "cell_type": "code",
   "execution_count": 83,
   "metadata": {},
   "outputs": [
    {
     "name": "stdout",
     "output_type": "stream",
     "text": [
      "32×5 DataFrame\n",
      "│ Row │ ID    │ Name                 │ Abbreviation │ Conference │ Division │\n",
      "│     │ \u001b[90mInt64\u001b[39m │ \u001b[90mString\u001b[39m               │ \u001b[90mString\u001b[39m       │ \u001b[90mString\u001b[39m     │ \u001b[90mString\u001b[39m   │\n",
      "├─────┼───────┼──────────────────────┼──────────────┼────────────┼──────────┤\n",
      "│ 1   │ 1     │ Arizona Cardinals    │ ARI          │ NFC        │ West     │\n",
      "│ 2   │ 2     │ Atlanta Falcons      │ ATL          │ NFC        │ South    │\n",
      "│ 3   │ 3     │ Baltimore Ravens     │ BAL          │ AFC        │ North    │\n",
      "│ 4   │ 4     │ Buffalo Bills        │ BUF          │ AFC        │ East     │\n",
      "│ 5   │ 5     │ Carolina Panthers    │ CAR          │ NFC        │ South    │\n",
      "│ 6   │ 6     │ Chicago Bears        │ CHI          │ NFC        │ North    │\n",
      "│ 7   │ 7     │ Cincinnati Bengals   │ CIN          │ AFC        │ North    │\n",
      "│ 8   │ 8     │ Cleveland Browns     │ CLE          │ AFC        │ North    │\n",
      "│ 9   │ 9     │ Dallas Cowboys       │ DAL          │ NFC        │ East     │\n",
      "│ 10  │ 10    │ Denver Broncos       │ DEN          │ AFC        │ West     │\n",
      "│ 11  │ 11    │ Detroit Lions        │ DET          │ NFC        │ North    │\n",
      "│ 12  │ 12    │ GreenBay Packers     │ GB           │ NFC        │ North    │\n",
      "│ 13  │ 13    │ Houston Texans       │ HOU          │ AFC        │ South    │\n",
      "│ 14  │ 14    │ Indianapolis Colts   │ IND          │ AFC        │ South    │\n",
      "│ 15  │ 15    │ Jacksonville Jaguars │ JAX          │ AFC        │ South    │\n",
      "│ 16  │ 16    │ KansasCity Chiefs    │ KC           │ AFC        │ West     │\n",
      "│ 17  │ 17    │ Miami Dolphins       │ MIA          │ AFC        │ East     │\n",
      "│ 18  │ 18    │ Minnesota Vikings    │ MIN          │ NFC        │ North    │\n",
      "│ 19  │ 19    │ NewEngland Patriots  │ NE           │ AFC        │ East     │\n",
      "│ 20  │ 20    │ NewOrleans Saints    │ NO           │ NFC        │ South    │\n",
      "│ 21  │ 21    │ NY Giants            │ NYG          │ NFC        │ East     │\n",
      "│ 22  │ 22    │ NY Jets              │ NYJ          │ AFC        │ East     │\n",
      "│ 23  │ 23    │ LasVegas Raiders     │ LV           │ AFC        │ West     │\n",
      "│ 24  │ 24    │ Philadelphia Eagles  │ PHI          │ NFC        │ East     │\n",
      "│ 25  │ 25    │ Pittsburgh Steelers  │ PIT          │ AFC        │ North    │\n",
      "│ 26  │ 26    │ LosAngeles Chargers  │ LAC          │ AFC        │ West     │\n",
      "│ 27  │ 27    │ SanFrancisco 49ers   │ SF           │ NFC        │ West     │\n",
      "│ 28  │ 28    │ Seattle Seahawks     │ SEA          │ NFC        │ West     │\n",
      "│ 29  │ 29    │ LosAngeles Rams      │ LAR          │ NFC        │ West     │\n",
      "│ 30  │ 30    │ TampaBay Buccaneers  │ TB           │ NFC        │ South    │\n",
      "│ 31  │ 31    │ Tennessee Titans     │ TEN          │ AFC        │ South    │\n",
      "│ 32  │ 32    │ Washington Redskins  │ WAS          │ NFC        │ East     │"
     ]
    }
   ],
   "source": [
    "bills_19 = CSV.read(\"Datasets/2019 Teams/bills_2019.csv\")\n",
    "nfl_teams = CSV.read(\"Datasets/nfl_teams.csv\")\n",
    "showall(nfl_teams)"
   ]
  },
  {
   "cell_type": "code",
   "execution_count": 84,
   "metadata": {},
   "outputs": [
    {
     "data": {
      "text/plain": [
       "32×2 Array{Any,2}:\n",
       "  1  \"ARI\"\n",
       "  2  \"ATL\"\n",
       "  3  \"BAL\"\n",
       "  4  \"BUF\"\n",
       "  5  \"CAR\"\n",
       "  6  \"CHI\"\n",
       "  7  \"CIN\"\n",
       "  8  \"CLE\"\n",
       "  9  \"DAL\"\n",
       " 10  \"DEN\"\n",
       " 11  \"DET\"\n",
       " 12  \"GB\"\n",
       " 13  \"HOU\"\n",
       "  ⋮  \n",
       " 21  \"NYG\"\n",
       " 22  \"NYJ\"\n",
       " 23  \"LV\"\n",
       " 24  \"PHI\"\n",
       " 25  \"PIT\"\n",
       " 26  \"LAC\"\n",
       " 27  \"SF\"\n",
       " 28  \"SEA\"\n",
       " 29  \"LAR\"\n",
       " 30  \"TB\"\n",
       " 31  \"TEN\"\n",
       " 32  \"WAS\""
      ]
     },
     "execution_count": 84,
     "metadata": {},
     "output_type": "execute_result"
    }
   ],
   "source": [
    "abbreviations = [nfl_teams[:, 1] nfl_teams[:, 3]]"
   ]
  },
  {
   "cell_type": "code",
   "execution_count": 85,
   "metadata": {},
   "outputs": [
    {
     "data": {
      "text/plain": [
       "14-element Array{Any,1}:\n",
       " \"patriots\"\n",
       " \"saints\"\n",
       " \"giants\"\n",
       " \"jets\"\n",
       " \"raiders\"\n",
       " \"eagles\"\n",
       " \"steelers\"\n",
       " \"chargers\"\n",
       " \"49ers\"\n",
       " \"seahawks\"\n",
       " \"rams\"\n",
       " \"buccaneers\"\n",
       " \"titans\"\n",
       " \"redskins\""
      ]
     },
     "execution_count": 85,
     "metadata": {},
     "output_type": "execute_result"
    }
   ],
   "source": [
    "team_names = nfl_teams[:, 2]\n",
    "team_names_split = String.(reduce(hcat,split.(team_names,' ')))\n",
    "team_names_split = team_names_split[2, :]\n",
    "team_names_split = [nfl_teams[:, 1] map(lowercase, team_names_split)]\n",
    "team_names_split[19:32, 2]"
   ]
  },
  {
   "cell_type": "code",
   "execution_count": 88,
   "metadata": {},
   "outputs": [
    {
     "data": {
      "text/plain": [
       "32×2 Array{Any,2}:\n",
       "  1  \"Datasets/2019 Teams/Datasets/2019 Teams/cardinals_2019.csv_2019.csv\"\n",
       "  2  \"Datasets/2019 Teams/Datasets/2019 Teams/falcons_2019.csv_2019.csv\"\n",
       "  3  \"Datasets/2019 Teams/Datasets/2019 Teams/ravens_2019.csv_2019.csv\"\n",
       "  4  \"Datasets/2019 Teams/Datasets/2019 Teams/bills_2019.csv_2019.csv\"\n",
       "  5  \"Datasets/2019 Teams/Datasets/2019 Teams/panthers_2019.csv_2019.csv\"\n",
       "  6  \"Datasets/2019 Teams/Datasets/2019 Teams/bears_2019.csv_2019.csv\"\n",
       "  7  \"Datasets/2019 Teams/Datasets/2019 Teams/bengals_2019.csv_2019.csv\"\n",
       "  8  \"Datasets/2019 Teams/Datasets/2019 Teams/browns_2019.csv_2019.csv\"\n",
       "  9  \"Datasets/2019 Teams/Datasets/2019 Teams/cowboys_2019.csv_2019.csv\"\n",
       " 10  \"Datasets/2019 Teams/Datasets/2019 Teams/broncos_2019.csv_2019.csv\"\n",
       " 11  \"Datasets/2019 Teams/Datasets/2019 Teams/lions_2019.csv_2019.csv\"\n",
       " 12  \"Datasets/2019 Teams/Datasets/2019 Teams/packers_2019.csv_2019.csv\"\n",
       " 13  \"Datasets/2019 Teams/Datasets/2019 Teams/texans_2019.csv_2019.csv\"\n",
       "  ⋮  \n",
       " 21  \"Datasets/2019 Teams/Datasets/2019 Teams/giants_2019.csv_2019.csv\"\n",
       " 22  \"Datasets/2019 Teams/Datasets/2019 Teams/jets_2019.csv_2019.csv\"\n",
       " 23  \"Datasets/2019 Teams/Datasets/2019 Teams/raiders_2019.csv_2019.csv\"\n",
       " 24  \"Datasets/2019 Teams/Datasets/2019 Teams/eagles_2019.csv_2019.csv\"\n",
       " 25  \"Datasets/2019 Teams/Datasets/2019 Teams/steelers_2019.csv_2019.csv\"\n",
       " 26  \"Datasets/2019 Teams/Datasets/2019 Teams/chargers_2019.csv_2019.csv\"\n",
       " 27  \"Datasets/2019 Teams/Datasets/2019 Teams/49ers_2019.csv_2019.csv\"\n",
       " 28  \"Datasets/2019 Teams/Datasets/2019 Teams/seahawks_2019.csv_2019.csv\"\n",
       " 29  \"Datasets/2019 Teams/Datasets/2019 Teams/rams_2019.csv_2019.csv\"\n",
       " 30  \"Datasets/2019 Teams/Datasets/2019 Teams/buccaneers_2019.csv_2019.csv\"\n",
       " 31  \"Datasets/2019 Teams/Datasets/2019 Teams/titans_2019.csv_2019.csv\"\n",
       " 32  \"Datasets/2019 Teams/Datasets/2019 Teams/redskins_2019.csv_2019.csv\""
      ]
     },
     "execution_count": 88,
     "metadata": {},
     "output_type": "execute_result"
    }
   ],
   "source": [
    "team_paths = []\n",
    "for i in 1:size(team_names_split,1)\n",
    "    team_names_split[i,2] = \"Datasets/2019 Teams/\" * team_names_split[i,2] * \"_2019.csv\"\n",
    "end\n",
    "team_names_split"
   ]
  },
  {
   "cell_type": "code",
   "execution_count": 87,
   "metadata": {},
   "outputs": [
    {
     "data": {
      "text/html": [
       "<table class=\"data-frame\"><thead><tr><th></th><th>Column1</th><th>Column2</th><th>Column3</th><th>Column4</th><th>Column5</th><th>Column6</th><th>Column7</th><th>Column8</th></tr><tr><th></th><th>String</th><th>String?</th><th>String?</th><th>String?</th><th>String?</th><th>String?</th><th>String?</th><th>String?</th></tr></thead><tbody><p>18 rows × 25 columns (omitted printing of 17 columns)</p><tr><th>1</th><td>Week</td><td>Day</td><td>Date</td><td><em>missing</em></td><td><em>missing</em></td><td><em>missing</em></td><td>OT</td><td>Rec</td></tr><tr><th>2</th><td>1</td><td>Sun</td><td>September 8</td><td>1:00PM ET</td><td>boxscore</td><td>L</td><td><em>missing</em></td><td>0-1</td></tr><tr><th>3</th><td>2</td><td>Sun</td><td>September 15</td><td>1:00PM ET</td><td>boxscore</td><td>L</td><td><em>missing</em></td><td>0-2</td></tr><tr><th>4</th><td>3</td><td>Mon</td><td>September 23</td><td>8:15PM ET</td><td>boxscore</td><td>L</td><td><em>missing</em></td><td>0-3</td></tr><tr><th>5</th><td>4</td><td>Sun</td><td>September 29</td><td>1:00PM ET</td><td>boxscore</td><td>L</td><td><em>missing</em></td><td>0-4</td></tr><tr><th>6</th><td>5</td><td>Sun</td><td>October 6</td><td>1:00PM ET</td><td>boxscore</td><td>L</td><td><em>missing</em></td><td>0-5</td></tr><tr><th>7</th><td>6</td><td>Sun</td><td>October 13</td><td>1:00PM ET</td><td>boxscore</td><td>W</td><td><em>missing</em></td><td>1-5</td></tr><tr><th>8</th><td>7</td><td>Sun</td><td>October 20</td><td>1:00PM ET</td><td>boxscore</td><td>L</td><td><em>missing</em></td><td>1-6</td></tr><tr><th>9</th><td>8</td><td>Thu</td><td>October 24</td><td>8:20PM ET</td><td>boxscore</td><td>L</td><td><em>missing</em></td><td>1-7</td></tr><tr><th>10</th><td>9</td><td>Sun</td><td>November 3</td><td>1:00PM ET</td><td>boxscore</td><td>L</td><td><em>missing</em></td><td>1-8</td></tr><tr><th>11</th><td>10</td><td><em>missing</em></td><td><em>missing</em></td><td><em>missing</em></td><td><em>missing</em></td><td><em>missing</em></td><td><em>missing</em></td><td><em>missing</em></td></tr><tr><th>12</th><td>11</td><td>Sun</td><td>November 17</td><td>1:00PM ET</td><td>boxscore</td><td>L</td><td><em>missing</em></td><td>1-9</td></tr><tr><th>13</th><td>12</td><td>Sun</td><td>November 24</td><td>1:00PM ET</td><td>boxscore</td><td>W</td><td><em>missing</em></td><td>2-9</td></tr><tr><th>14</th><td>13</td><td>Sun</td><td>December 1</td><td>1:00PM ET</td><td>boxscore</td><td>W</td><td><em>missing</em></td><td>3-9</td></tr><tr><th>15</th><td>14</td><td>Sun</td><td>December 8</td><td>1:00PM ET</td><td>boxscore</td><td>L</td><td><em>missing</em></td><td>3-10</td></tr><tr><th>16</th><td>15</td><td>Sun</td><td>December 15</td><td>1:00PM ET</td><td>boxscore</td><td>L</td><td><em>missing</em></td><td>3-11</td></tr><tr><th>17</th><td>16</td><td>Sun</td><td>December 22</td><td>1:00PM ET</td><td>boxscore</td><td>L</td><td>OT</td><td>3-12</td></tr><tr><th>18</th><td>17</td><td>Sun</td><td>December 29</td><td>4:25PM ET</td><td>boxscore</td><td>L</td><td><em>missing</em></td><td>3-13</td></tr></tbody></table>"
      ],
      "text/latex": [
       "\\begin{tabular}{r|ccccccccc}\n",
       "\t& Column1 & Column2 & Column3 & Column4 & Column5 & Column6 & Column7 & Column8 & \\\\\n",
       "\t\\hline\n",
       "\t& String & String? & String? & String? & String? & String? & String? & String? & \\\\\n",
       "\t\\hline\n",
       "\t1 & Week & Day & Date & \\emph{missing} & \\emph{missing} & \\emph{missing} & OT & Rec & $\\dots$ \\\\\n",
       "\t2 & 1 & Sun & September 8 & 1:00PM ET & boxscore & L & \\emph{missing} & 0-1 & $\\dots$ \\\\\n",
       "\t3 & 2 & Sun & September 15 & 1:00PM ET & boxscore & L & \\emph{missing} & 0-2 & $\\dots$ \\\\\n",
       "\t4 & 3 & Mon & September 23 & 8:15PM ET & boxscore & L & \\emph{missing} & 0-3 & $\\dots$ \\\\\n",
       "\t5 & 4 & Sun & September 29 & 1:00PM ET & boxscore & L & \\emph{missing} & 0-4 & $\\dots$ \\\\\n",
       "\t6 & 5 & Sun & October 6 & 1:00PM ET & boxscore & L & \\emph{missing} & 0-5 & $\\dots$ \\\\\n",
       "\t7 & 6 & Sun & October 13 & 1:00PM ET & boxscore & W & \\emph{missing} & 1-5 & $\\dots$ \\\\\n",
       "\t8 & 7 & Sun & October 20 & 1:00PM ET & boxscore & L & \\emph{missing} & 1-6 & $\\dots$ \\\\\n",
       "\t9 & 8 & Thu & October 24 & 8:20PM ET & boxscore & L & \\emph{missing} & 1-7 & $\\dots$ \\\\\n",
       "\t10 & 9 & Sun & November 3 & 1:00PM ET & boxscore & L & \\emph{missing} & 1-8 & $\\dots$ \\\\\n",
       "\t11 & 10 & \\emph{missing} & \\emph{missing} & \\emph{missing} & \\emph{missing} & \\emph{missing} & \\emph{missing} & \\emph{missing} & $\\dots$ \\\\\n",
       "\t12 & 11 & Sun & November 17 & 1:00PM ET & boxscore & L & \\emph{missing} & 1-9 & $\\dots$ \\\\\n",
       "\t13 & 12 & Sun & November 24 & 1:00PM ET & boxscore & W & \\emph{missing} & 2-9 & $\\dots$ \\\\\n",
       "\t14 & 13 & Sun & December 1 & 1:00PM ET & boxscore & W & \\emph{missing} & 3-9 & $\\dots$ \\\\\n",
       "\t15 & 14 & Sun & December 8 & 1:00PM ET & boxscore & L & \\emph{missing} & 3-10 & $\\dots$ \\\\\n",
       "\t16 & 15 & Sun & December 15 & 1:00PM ET & boxscore & L & \\emph{missing} & 3-11 & $\\dots$ \\\\\n",
       "\t17 & 16 & Sun & December 22 & 1:00PM ET & boxscore & L & OT & 3-12 & $\\dots$ \\\\\n",
       "\t18 & 17 & Sun & December 29 & 4:25PM ET & boxscore & L & \\emph{missing} & 3-13 & $\\dots$ \\\\\n",
       "\\end{tabular}\n"
      ],
      "text/plain": [
       "18×25 DataFrame. Omitted printing of 19 columns\n",
       "│ Row │ Column1 │ Column2 │ Column3      │ Column4   │ Column5  │ Column6 │\n",
       "│     │ \u001b[90mString\u001b[39m  │ \u001b[90mString?\u001b[39m │ \u001b[90mString?\u001b[39m      │ \u001b[90mString?\u001b[39m   │ \u001b[90mString?\u001b[39m  │ \u001b[90mString?\u001b[39m │\n",
       "├─────┼─────────┼─────────┼──────────────┼───────────┼──────────┼─────────┤\n",
       "│ 1   │ Week    │ Day     │ Date         │ \u001b[90mmissing\u001b[39m   │ \u001b[90mmissing\u001b[39m  │ \u001b[90mmissing\u001b[39m │\n",
       "│ 2   │ 1       │ Sun     │ September 8  │ 1:00PM ET │ boxscore │ L       │\n",
       "│ 3   │ 2       │ Sun     │ September 15 │ 1:00PM ET │ boxscore │ L       │\n",
       "│ 4   │ 3       │ Mon     │ September 23 │ 8:15PM ET │ boxscore │ L       │\n",
       "│ 5   │ 4       │ Sun     │ September 29 │ 1:00PM ET │ boxscore │ L       │\n",
       "│ 6   │ 5       │ Sun     │ October 6    │ 1:00PM ET │ boxscore │ L       │\n",
       "│ 7   │ 6       │ Sun     │ October 13   │ 1:00PM ET │ boxscore │ W       │\n",
       "│ 8   │ 7       │ Sun     │ October 20   │ 1:00PM ET │ boxscore │ L       │\n",
       "│ 9   │ 8       │ Thu     │ October 24   │ 8:20PM ET │ boxscore │ L       │\n",
       "│ 10  │ 9       │ Sun     │ November 3   │ 1:00PM ET │ boxscore │ L       │\n",
       "│ 11  │ 10      │ \u001b[90mmissing\u001b[39m │ \u001b[90mmissing\u001b[39m      │ \u001b[90mmissing\u001b[39m   │ \u001b[90mmissing\u001b[39m  │ \u001b[90mmissing\u001b[39m │\n",
       "│ 12  │ 11      │ Sun     │ November 17  │ 1:00PM ET │ boxscore │ L       │\n",
       "│ 13  │ 12      │ Sun     │ November 24  │ 1:00PM ET │ boxscore │ W       │\n",
       "│ 14  │ 13      │ Sun     │ December 1   │ 1:00PM ET │ boxscore │ W       │\n",
       "│ 15  │ 14      │ Sun     │ December 8   │ 1:00PM ET │ boxscore │ L       │\n",
       "│ 16  │ 15      │ Sun     │ December 15  │ 1:00PM ET │ boxscore │ L       │\n",
       "│ 17  │ 16      │ Sun     │ December 22  │ 1:00PM ET │ boxscore │ L       │\n",
       "│ 18  │ 17      │ Sun     │ December 29  │ 4:25PM ET │ boxscore │ L       │"
      ]
     },
     "execution_count": 87,
     "metadata": {},
     "output_type": "execute_result"
    }
   ],
   "source": [
    "# now let's create some DataFrame variables\n",
    "cardinals_19 = CSV.read(team_names_split[1,2])\n",
    "falcons_19 = CSV.read(team_names_split[2,2])\n",
    "ravens_19 = CSV.read(team_names_split[3,2])\n",
    "bills_19 = CSV.read(team_names_split[4,2])\n",
    "panthers_19 = CSV.read(team_names_split[5,2])\n",
    "bears_19 = CSV.read(team_names_split[6,2])\n",
    "bengals_19 = CSV.read(team_names_split[7,2])\n",
    "browns_19 = CSV.read(team_names_split[8,2])\n",
    "cowboys_19 = CSV.read(team_names_split[9,2])\n",
    "broncos_19 = CSV.read(team_names_split[10,2])\n",
    "lions_19 = CSV.read(team_names_split[11,2])\n",
    "packers_19 = CSV.read(team_names_split[12,2])\n",
    "texans_19 = CSV.read(team_names_split[13,2])\n",
    "colts_19 = CSV.read(team_names_split[14,2])\n",
    "jaguars_19 = CSV.read(team_names_split[15,2])\n",
    "chiefs_19 = CSV.read(team_names_split[16,2])\n",
    "dolphins_19 = CSV.read(team_names_split[17,2])\n",
    "vikings_19 = CSV.read(team_names_split[18,2])\n",
    "patriots_19 = CSV.read(team_names_split[19,2])\n",
    "saints_19 = CSV.read(team_names_split[20,2])\n",
    "giants_19 = CSV.read(team_names_split[21,2])\n",
    "jets_19 = CSV.read(team_names_split[22,2])\n",
    "raiders_19 = CSV.read(team_names_split[23,2])\n",
    "eagles_19 = CSV.read(team_names_split[24,2])\n",
    "steelers_19 = CSV.read(team_names_split[25,2])\n",
    "chargers_19 = CSV.read(team_names_split[26,2])\n",
    "# note: name different than csv file name\n",
    "fortyniners_19 = CSV.read(team_names_split[27,2])\n",
    "seahawsks_19 = CSV.read(team_names_split[28,2])\n",
    "rams_19 = CSV.read(team_names_split[29,2])\n",
    "buccaneers_19 = CSV.read(team_names_split[30,2])\n",
    "titans_19 = CSV.read(team_names_split[31,2])\n",
    "redskins_19 = CSV.read(team_names_split[32,2])"
   ]
  },
  {
   "cell_type": "code",
   "execution_count": null,
   "metadata": {},
   "outputs": [],
   "source": []
  },
  {
   "cell_type": "code",
   "execution_count": null,
   "metadata": {},
   "outputs": [],
   "source": []
  }
 ],
 "metadata": {
  "kernelspec": {
   "display_name": "Julia 1.5.1",
   "language": "julia",
   "name": "julia-1.5"
  },
  "language_info": {
   "file_extension": ".jl",
   "mimetype": "application/julia",
   "name": "julia",
   "version": "1.5.1"
  }
 },
 "nbformat": 4,
 "nbformat_minor": 4
}
